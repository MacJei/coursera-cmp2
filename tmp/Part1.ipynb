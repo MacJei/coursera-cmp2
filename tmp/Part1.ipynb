{
 "cells": [
  {
   "cell_type": "markdown",
   "metadata": {},
   "source": [
    "### A Complete Machine Learning Project Walk-Through in Python: Part One\n",
    "https://towardsdatascience.com/a-complete-machine-learning-walk-through-in-python-part-one-c62152f39420\n",
    "\n",
    "The objective is to use the energy data to build a model that can predict the Energy Star Score of a building and interpret the results to find the factors which influence the score."
   ]
  },
  {
   "cell_type": "code",
   "execution_count": 1,
   "metadata": {},
   "outputs": [
    {
     "data": {
      "text/html": [
       "<div>\n",
       "<style>\n",
       "    .dataframe thead tr:only-child th {\n",
       "        text-align: right;\n",
       "    }\n",
       "\n",
       "    .dataframe thead th {\n",
       "        text-align: left;\n",
       "    }\n",
       "\n",
       "    .dataframe tbody tr th {\n",
       "        vertical-align: top;\n",
       "    }\n",
       "</style>\n",
       "<table border=\"1\" class=\"dataframe\">\n",
       "  <thead>\n",
       "    <tr style=\"text-align: right;\">\n",
       "      <th></th>\n",
       "      <th>Order</th>\n",
       "      <th>Property Id</th>\n",
       "      <th>Property Name</th>\n",
       "      <th>Parent Property Id</th>\n",
       "      <th>Parent Property Name</th>\n",
       "      <th>BBL - 10 digits</th>\n",
       "      <th>NYC Borough, Block and Lot (BBL) self-reported</th>\n",
       "      <th>NYC Building Identification Number (BIN)</th>\n",
       "      <th>Address 1 (self-reported)</th>\n",
       "      <th>Address 2</th>\n",
       "      <th>...</th>\n",
       "      <th>Source EUI (kBtu/ft²)</th>\n",
       "      <th>Release Date</th>\n",
       "      <th>Water Required?</th>\n",
       "      <th>DOF Benchmarking Submission Status</th>\n",
       "      <th>Latitude</th>\n",
       "      <th>Longitude</th>\n",
       "      <th>Community Board</th>\n",
       "      <th>Council District</th>\n",
       "      <th>Census Tract</th>\n",
       "      <th>NTA</th>\n",
       "    </tr>\n",
       "  </thead>\n",
       "  <tbody>\n",
       "    <tr>\n",
       "      <th>0</th>\n",
       "      <td>1</td>\n",
       "      <td>13286</td>\n",
       "      <td>201/205</td>\n",
       "      <td>13286</td>\n",
       "      <td>201/205</td>\n",
       "      <td>1013160001</td>\n",
       "      <td>1013160001</td>\n",
       "      <td>1037549</td>\n",
       "      <td>201/205  East  42nd  st.</td>\n",
       "      <td>Not Available</td>\n",
       "      <td>...</td>\n",
       "      <td>619.4</td>\n",
       "      <td>05/01/2017 05:32:03 PM</td>\n",
       "      <td>No</td>\n",
       "      <td>In Compliance</td>\n",
       "      <td>40.750791</td>\n",
       "      <td>-73.973963</td>\n",
       "      <td>6.0</td>\n",
       "      <td>4.0</td>\n",
       "      <td>88.0</td>\n",
       "      <td>Turtle Bay-East Midtown                       ...</td>\n",
       "    </tr>\n",
       "    <tr>\n",
       "      <th>1</th>\n",
       "      <td>2</td>\n",
       "      <td>28400</td>\n",
       "      <td>NYP Columbia (West Campus)</td>\n",
       "      <td>28400</td>\n",
       "      <td>NYP Columbia (West Campus)</td>\n",
       "      <td>1021380040</td>\n",
       "      <td>1-02138-0040</td>\n",
       "      <td>1084198; 1084387;1084385; 1084386; 1084388; 10...</td>\n",
       "      <td>622 168th Street</td>\n",
       "      <td>Not Available</td>\n",
       "      <td>...</td>\n",
       "      <td>404.3</td>\n",
       "      <td>04/27/2017 11:23:27 AM</td>\n",
       "      <td>No</td>\n",
       "      <td>In Compliance</td>\n",
       "      <td>40.841402</td>\n",
       "      <td>-73.942568</td>\n",
       "      <td>12.0</td>\n",
       "      <td>10.0</td>\n",
       "      <td>251.0</td>\n",
       "      <td>Washington Heights South                      ...</td>\n",
       "    </tr>\n",
       "    <tr>\n",
       "      <th>2</th>\n",
       "      <td>3</td>\n",
       "      <td>4778226</td>\n",
       "      <td>MSCHoNY North</td>\n",
       "      <td>28400</td>\n",
       "      <td>NYP Columbia (West Campus)</td>\n",
       "      <td>1021380030</td>\n",
       "      <td>1-02138-0030</td>\n",
       "      <td>1063380</td>\n",
       "      <td>3975 Broadway</td>\n",
       "      <td>Not Available</td>\n",
       "      <td>...</td>\n",
       "      <td>Not Available</td>\n",
       "      <td>04/27/2017 11:23:27 AM</td>\n",
       "      <td>No</td>\n",
       "      <td>In Compliance</td>\n",
       "      <td>40.840427</td>\n",
       "      <td>-73.940249</td>\n",
       "      <td>12.0</td>\n",
       "      <td>10.0</td>\n",
       "      <td>251.0</td>\n",
       "      <td>Washington Heights South                      ...</td>\n",
       "    </tr>\n",
       "    <tr>\n",
       "      <th>3</th>\n",
       "      <td>4</td>\n",
       "      <td>4778267</td>\n",
       "      <td>Herbert Irving Pavilion &amp; Millstein Hospital</td>\n",
       "      <td>28400</td>\n",
       "      <td>NYP Columbia (West Campus)</td>\n",
       "      <td>1021390001</td>\n",
       "      <td>1-02139-0001</td>\n",
       "      <td>1087281; 1076746</td>\n",
       "      <td>161 Fort Washington Ave</td>\n",
       "      <td>177 Fort Washington Ave</td>\n",
       "      <td>...</td>\n",
       "      <td>Not Available</td>\n",
       "      <td>04/27/2017 11:23:27 AM</td>\n",
       "      <td>No</td>\n",
       "      <td>In Compliance</td>\n",
       "      <td>40.840746</td>\n",
       "      <td>-73.942854</td>\n",
       "      <td>12.0</td>\n",
       "      <td>10.0</td>\n",
       "      <td>255.0</td>\n",
       "      <td>Washington Heights South                      ...</td>\n",
       "    </tr>\n",
       "    <tr>\n",
       "      <th>4</th>\n",
       "      <td>5</td>\n",
       "      <td>4778288</td>\n",
       "      <td>Neuro Institute</td>\n",
       "      <td>28400</td>\n",
       "      <td>NYP Columbia (West Campus)</td>\n",
       "      <td>1021390085</td>\n",
       "      <td>1-02139-0085</td>\n",
       "      <td>1063403</td>\n",
       "      <td>710 West 168th Street</td>\n",
       "      <td>Not Available</td>\n",
       "      <td>...</td>\n",
       "      <td>Not Available</td>\n",
       "      <td>04/27/2017 11:23:27 AM</td>\n",
       "      <td>No</td>\n",
       "      <td>In Compliance</td>\n",
       "      <td>40.841559</td>\n",
       "      <td>-73.942528</td>\n",
       "      <td>12.0</td>\n",
       "      <td>10.0</td>\n",
       "      <td>255.0</td>\n",
       "      <td>Washington Heights South                      ...</td>\n",
       "    </tr>\n",
       "  </tbody>\n",
       "</table>\n",
       "<p>5 rows × 60 columns</p>\n",
       "</div>"
      ],
      "text/plain": [
       "   Order  Property Id                                 Property Name  \\\n",
       "0      1        13286                                       201/205   \n",
       "1      2        28400                    NYP Columbia (West Campus)   \n",
       "2      3      4778226                                 MSCHoNY North   \n",
       "3      4      4778267  Herbert Irving Pavilion & Millstein Hospital   \n",
       "4      5      4778288                               Neuro Institute   \n",
       "\n",
       "  Parent Property Id        Parent Property Name BBL - 10 digits  \\\n",
       "0              13286                     201/205      1013160001   \n",
       "1              28400  NYP Columbia (West Campus)      1021380040   \n",
       "2              28400  NYP Columbia (West Campus)      1021380030   \n",
       "3              28400  NYP Columbia (West Campus)      1021390001   \n",
       "4              28400  NYP Columbia (West Campus)      1021390085   \n",
       "\n",
       "  NYC Borough, Block and Lot (BBL) self-reported  \\\n",
       "0                                     1013160001   \n",
       "1                                   1-02138-0040   \n",
       "2                                   1-02138-0030   \n",
       "3                                   1-02139-0001   \n",
       "4                                   1-02139-0085   \n",
       "\n",
       "            NYC Building Identification Number (BIN)  \\\n",
       "0                                            1037549   \n",
       "1  1084198; 1084387;1084385; 1084386; 1084388; 10...   \n",
       "2                                            1063380   \n",
       "3                                   1087281; 1076746   \n",
       "4                                            1063403   \n",
       "\n",
       "  Address 1 (self-reported)                Address 2  \\\n",
       "0  201/205  East  42nd  st.            Not Available   \n",
       "1          622 168th Street            Not Available   \n",
       "2             3975 Broadway            Not Available   \n",
       "3   161 Fort Washington Ave  177 Fort Washington Ave   \n",
       "4     710 West 168th Street            Not Available   \n",
       "\n",
       "                         ...                         Source EUI (kBtu/ft²)  \\\n",
       "0                        ...                                         619.4   \n",
       "1                        ...                                         404.3   \n",
       "2                        ...                                 Not Available   \n",
       "3                        ...                                 Not Available   \n",
       "4                        ...                                 Not Available   \n",
       "\n",
       "             Release Date Water Required? DOF Benchmarking Submission Status  \\\n",
       "0  05/01/2017 05:32:03 PM              No                      In Compliance   \n",
       "1  04/27/2017 11:23:27 AM              No                      In Compliance   \n",
       "2  04/27/2017 11:23:27 AM              No                      In Compliance   \n",
       "3  04/27/2017 11:23:27 AM              No                      In Compliance   \n",
       "4  04/27/2017 11:23:27 AM              No                      In Compliance   \n",
       "\n",
       "    Latitude  Longitude Community Board Council District Census Tract  \\\n",
       "0  40.750791 -73.973963             6.0              4.0         88.0   \n",
       "1  40.841402 -73.942568            12.0             10.0        251.0   \n",
       "2  40.840427 -73.940249            12.0             10.0        251.0   \n",
       "3  40.840746 -73.942854            12.0             10.0        255.0   \n",
       "4  40.841559 -73.942528            12.0             10.0        255.0   \n",
       "\n",
       "                                                 NTA  \n",
       "0  Turtle Bay-East Midtown                       ...  \n",
       "1  Washington Heights South                      ...  \n",
       "2  Washington Heights South                      ...  \n",
       "3  Washington Heights South                      ...  \n",
       "4  Washington Heights South                      ...  \n",
       "\n",
       "[5 rows x 60 columns]"
      ]
     },
     "execution_count": 1,
     "metadata": {},
     "output_type": "execute_result"
    }
   ],
   "source": [
    "import pandas as pd\n",
    "import numpy as np\n",
    "\n",
    "# read data\n",
    "data = pd.read_csv('./Energy_and_Water_Data_Disclosure_for_Local_Law_84_2017__Data_for_Calendar_Year_2016_.csv')\n",
    "data.head()"
   ]
  },
  {
   "cell_type": "markdown",
   "metadata": {},
   "source": [
    "When I originally got the assignment from the start-up, I didn’t want to ask what all the column names meant, so I looked at the name of the file,\n",
    "\n",
    "and decided to search for “Local Law 84”. That led me to this page which explains this is an NYC law requiring all buildings of a certain size to report their energy use. http://www.nyc.gov/html/gbee/downloads/misc/nyc_benchmarking_disclosure_data_definitions_2017.pdf\n",
    "\n",
    "We don’t need to study all of the columns, but we should at least understand the Energy Star Score, which is described as:\n",
    "\n",
    "#### A 1-to-100 percentile ranking based on self-reported energy usage for the reporting year. The Energy Star score is a relative measure used for comparing the energy efficiency of buildings."
   ]
  },
  {
   "cell_type": "markdown",
   "metadata": {},
   "source": [
    "That clears up the first problem, but the second issue is that missing values are encoded as “Not Available”."
   ]
  },
  {
   "cell_type": "code",
   "execution_count": 2,
   "metadata": {},
   "outputs": [
    {
     "name": "stdout",
     "output_type": "stream",
     "text": [
      "<class 'pandas.core.frame.DataFrame'>\n",
      "RangeIndex: 11746 entries, 0 to 11745\n",
      "Data columns (total 60 columns):\n",
      "Order                                                         11746 non-null int64\n",
      "Property Id                                                   11746 non-null int64\n",
      "Property Name                                                 11746 non-null object\n",
      "Parent Property Id                                            11746 non-null object\n",
      "Parent Property Name                                          11746 non-null object\n",
      "BBL - 10 digits                                               11735 non-null object\n",
      "NYC Borough, Block and Lot (BBL) self-reported                11746 non-null object\n",
      "NYC Building Identification Number (BIN)                      11746 non-null object\n",
      "Address 1 (self-reported)                                     11746 non-null object\n",
      "Address 2                                                     11746 non-null object\n",
      "Postal Code                                                   11746 non-null object\n",
      "Street Number                                                 11622 non-null object\n",
      "Street Name                                                   11624 non-null object\n",
      "Borough                                                       11628 non-null object\n",
      "DOF Gross Floor Area                                          11628 non-null float64\n",
      "Primary Property Type - Self Selected                         11746 non-null object\n",
      "List of All Property Use Types at Property                    11746 non-null object\n",
      "Largest Property Use Type                                     11746 non-null object\n",
      "Largest Property Use Type - Gross Floor Area (ft²)            11746 non-null object\n",
      "2nd Largest Property Use Type                                 11746 non-null object\n",
      "2nd Largest Property Use - Gross Floor Area (ft²)             11746 non-null object\n",
      "3rd Largest Property Use Type                                 11746 non-null object\n",
      "3rd Largest Property Use Type - Gross Floor Area (ft²)        11746 non-null object\n",
      "Year Built                                                    11746 non-null int64\n",
      "Number of Buildings - Self-reported                           11746 non-null int64\n",
      "Occupancy                                                     11746 non-null int64\n",
      "Metered Areas (Energy)                                        11746 non-null object\n",
      "Metered Areas  (Water)                                        11746 non-null object\n",
      "ENERGY STAR Score                                             11746 non-null object\n",
      "Site EUI (kBtu/ft²)                                           11746 non-null object\n",
      "Weather Normalized Site EUI (kBtu/ft²)                        11746 non-null object\n",
      "Weather Normalized Site Electricity Intensity (kWh/ft²)       11746 non-null object\n",
      "Weather Normalized Site Natural Gas Intensity (therms/ft²)    11746 non-null object\n",
      "Weather Normalized Source EUI (kBtu/ft²)                      11746 non-null object\n",
      "Fuel Oil #1 Use (kBtu)                                        11746 non-null object\n",
      "Fuel Oil #2 Use (kBtu)                                        11746 non-null object\n",
      "Fuel Oil #4 Use (kBtu)                                        11746 non-null object\n",
      "Fuel Oil #5 & 6 Use (kBtu)                                    11746 non-null object\n",
      "Diesel #2 Use (kBtu)                                          11746 non-null object\n",
      "District Steam Use (kBtu)                                     11746 non-null object\n",
      "Natural Gas Use (kBtu)                                        11746 non-null object\n",
      "Weather Normalized Site Natural Gas Use (therms)              11746 non-null object\n",
      "Electricity Use - Grid Purchase (kBtu)                        11746 non-null object\n",
      "Weather Normalized Site Electricity (kWh)                     11746 non-null object\n",
      "Total GHG Emissions (Metric Tons CO2e)                        11746 non-null object\n",
      "Direct GHG Emissions (Metric Tons CO2e)                       11746 non-null object\n",
      "Indirect GHG Emissions (Metric Tons CO2e)                     11746 non-null object\n",
      "Property GFA - Self-Reported (ft²)                            11746 non-null int64\n",
      "Water Use (All Water Sources) (kgal)                          11746 non-null object\n",
      "Water Intensity (All Water Sources) (gal/ft²)                 11746 non-null object\n",
      "Source EUI (kBtu/ft²)                                         11746 non-null object\n",
      "Release Date                                                  11746 non-null object\n",
      "Water Required?                                               11628 non-null object\n",
      "DOF Benchmarking Submission Status                            11716 non-null object\n",
      "Latitude                                                      9483 non-null float64\n",
      "Longitude                                                     9483 non-null float64\n",
      "Community Board                                               9483 non-null float64\n",
      "Council District                                              9483 non-null float64\n",
      "Census Tract                                                  9483 non-null float64\n",
      "NTA                                                           9483 non-null object\n",
      "dtypes: float64(6), int64(6), object(48)\n",
      "memory usage: 5.4+ MB\n"
     ]
    }
   ],
   "source": [
    "data.info()"
   ]
  },
  {
   "cell_type": "code",
   "execution_count": 11,
   "metadata": {
    "collapsed": true
   },
   "outputs": [],
   "source": [
    "# replace to special type\n",
    "data = data.replace({'Not Available': np.nan})\n",
    "\n",
    "for col in list(data.columns):\n",
    "    # select should be numeric columns \n",
    "    if('ft²' in col or 'kBtu' in col or 'Metric Tons CO2' in col or 'kWh' in col \n",
    "       or 'therms' in col or 'gal' in col or 'Score' in col):\n",
    "        data[col] = data[col].astype(float)\n",
    "        \n",
    "        "
   ]
  },
  {
   "cell_type": "code",
   "execution_count": 14,
   "metadata": {},
   "outputs": [
    {
     "data": {
      "text/plain": [
       "11746"
      ]
     },
     "execution_count": 14,
     "metadata": {},
     "output_type": "execute_result"
    }
   ],
   "source": [
    "len(data)"
   ]
  },
  {
   "cell_type": "code",
   "execution_count": 12,
   "metadata": {},
   "outputs": [
    {
     "name": "stdout",
     "output_type": "stream",
     "text": [
      "<class 'pandas.core.frame.DataFrame'>\n",
      "RangeIndex: 11746 entries, 0 to 11745\n",
      "Data columns (total 60 columns):\n",
      "Order                                                         11746 non-null int64\n",
      "Property Id                                                   11746 non-null int64\n",
      "Property Name                                                 11746 non-null object\n",
      "Parent Property Id                                            11746 non-null object\n",
      "Parent Property Name                                          11746 non-null object\n",
      "BBL - 10 digits                                               11735 non-null object\n",
      "NYC Borough, Block and Lot (BBL) self-reported                11735 non-null object\n",
      "NYC Building Identification Number (BIN)                      11584 non-null object\n",
      "Address 1 (self-reported)                                     11746 non-null object\n",
      "Address 2                                                     207 non-null object\n",
      "Postal Code                                                   11746 non-null object\n",
      "Street Number                                                 11622 non-null object\n",
      "Street Name                                                   11624 non-null object\n",
      "Borough                                                       11628 non-null object\n",
      "DOF Gross Floor Area                                          11628 non-null float64\n",
      "Primary Property Type - Self Selected                         11746 non-null object\n",
      "List of All Property Use Types at Property                    11746 non-null object\n",
      "Largest Property Use Type                                     11744 non-null object\n",
      "Largest Property Use Type - Gross Floor Area (ft²)            11744 non-null float64\n",
      "2nd Largest Property Use Type                                 3741 non-null object\n",
      "2nd Largest Property Use - Gross Floor Area (ft²)             3741 non-null float64\n",
      "3rd Largest Property Use Type                                 1484 non-null object\n",
      "3rd Largest Property Use Type - Gross Floor Area (ft²)        1484 non-null float64\n",
      "Year Built                                                    11746 non-null int64\n",
      "Number of Buildings - Self-reported                           11746 non-null int64\n",
      "Occupancy                                                     11746 non-null int64\n",
      "Metered Areas (Energy)                                        11689 non-null object\n",
      "Metered Areas  (Water)                                        7137 non-null object\n",
      "ENERGY STAR Score                                             9642 non-null float64\n",
      "Site EUI (kBtu/ft²)                                           11583 non-null float64\n",
      "Weather Normalized Site EUI (kBtu/ft²)                        10281 non-null float64\n",
      "Weather Normalized Site Electricity Intensity (kWh/ft²)       10959 non-null float64\n",
      "Weather Normalized Site Natural Gas Intensity (therms/ft²)    9783 non-null float64\n",
      "Weather Normalized Source EUI (kBtu/ft²)                      10281 non-null float64\n",
      "Fuel Oil #1 Use (kBtu)                                        9 non-null float64\n",
      "Fuel Oil #2 Use (kBtu)                                        2581 non-null float64\n",
      "Fuel Oil #4 Use (kBtu)                                        1321 non-null float64\n",
      "Fuel Oil #5 & 6 Use (kBtu)                                    594 non-null float64\n",
      "Diesel #2 Use (kBtu)                                          16 non-null float64\n",
      "District Steam Use (kBtu)                                     936 non-null float64\n",
      "Natural Gas Use (kBtu)                                        10304 non-null float64\n",
      "Weather Normalized Site Natural Gas Use (therms)              9784 non-null float64\n",
      "Electricity Use - Grid Purchase (kBtu)                        11502 non-null float64\n",
      "Weather Normalized Site Electricity (kWh)                     10960 non-null float64\n",
      "Total GHG Emissions (Metric Tons CO2e)                        11672 non-null float64\n",
      "Direct GHG Emissions (Metric Tons CO2e)                       11663 non-null float64\n",
      "Indirect GHG Emissions (Metric Tons CO2e)                     11681 non-null float64\n",
      "Property GFA - Self-Reported (ft²)                            11746 non-null float64\n",
      "Water Use (All Water Sources) (kgal)                          7762 non-null float64\n",
      "Water Intensity (All Water Sources) (gal/ft²)                 7762 non-null float64\n",
      "Source EUI (kBtu/ft²)                                         11583 non-null float64\n",
      "Release Date                                                  11746 non-null object\n",
      "Water Required?                                               11628 non-null object\n",
      "DOF Benchmarking Submission Status                            11716 non-null object\n",
      "Latitude                                                      9483 non-null float64\n",
      "Longitude                                                     9483 non-null float64\n",
      "Community Board                                               9483 non-null float64\n",
      "Council District                                              9483 non-null float64\n",
      "Census Tract                                                  9483 non-null float64\n",
      "NTA                                                           9483 non-null object\n",
      "dtypes: float64(32), int64(5), object(23)\n",
      "memory usage: 5.4+ MB\n"
     ]
    }
   ],
   "source": [
    "data.info()"
   ]
  },
  {
   "cell_type": "markdown",
   "metadata": {},
   "source": [
    "data.isnull().sum() # aggregate columns data"
   ]
  },
  {
   "cell_type": "code",
   "execution_count": 40,
   "metadata": {},
   "outputs": [
    {
     "name": "stdout",
     "output_type": "stream",
     "text": [
      "Your selected dataframe has 60 columns.\n",
      "There are 46 columns that have missing values. \n"
     ]
    },
    {
     "data": {
      "text/html": [
       "<div>\n",
       "<style>\n",
       "    .dataframe thead tr:only-child th {\n",
       "        text-align: right;\n",
       "    }\n",
       "\n",
       "    .dataframe thead th {\n",
       "        text-align: left;\n",
       "    }\n",
       "\n",
       "    .dataframe tbody tr th {\n",
       "        vertical-align: top;\n",
       "    }\n",
       "</style>\n",
       "<table border=\"1\" class=\"dataframe\">\n",
       "  <thead>\n",
       "    <tr style=\"text-align: right;\">\n",
       "      <th></th>\n",
       "      <th>Missing Values</th>\n",
       "      <th>% of Total Values</th>\n",
       "    </tr>\n",
       "  </thead>\n",
       "  <tbody>\n",
       "    <tr>\n",
       "      <th>Fuel Oil #1 Use (kBtu)</th>\n",
       "      <td>11737</td>\n",
       "      <td>99.9</td>\n",
       "    </tr>\n",
       "    <tr>\n",
       "      <th>Diesel #2 Use (kBtu)</th>\n",
       "      <td>11730</td>\n",
       "      <td>99.9</td>\n",
       "    </tr>\n",
       "    <tr>\n",
       "      <th>Address 2</th>\n",
       "      <td>11539</td>\n",
       "      <td>98.2</td>\n",
       "    </tr>\n",
       "    <tr>\n",
       "      <th>Fuel Oil #5 &amp; 6 Use (kBtu)</th>\n",
       "      <td>11152</td>\n",
       "      <td>94.9</td>\n",
       "    </tr>\n",
       "    <tr>\n",
       "      <th>District Steam Use (kBtu)</th>\n",
       "      <td>10810</td>\n",
       "      <td>92.0</td>\n",
       "    </tr>\n",
       "    <tr>\n",
       "      <th>Fuel Oil #4 Use (kBtu)</th>\n",
       "      <td>10425</td>\n",
       "      <td>88.8</td>\n",
       "    </tr>\n",
       "    <tr>\n",
       "      <th>3rd Largest Property Use Type - Gross Floor Area (ft²)</th>\n",
       "      <td>10262</td>\n",
       "      <td>87.4</td>\n",
       "    </tr>\n",
       "    <tr>\n",
       "      <th>3rd Largest Property Use Type</th>\n",
       "      <td>10262</td>\n",
       "      <td>87.4</td>\n",
       "    </tr>\n",
       "    <tr>\n",
       "      <th>Fuel Oil #2 Use (kBtu)</th>\n",
       "      <td>9165</td>\n",
       "      <td>78.0</td>\n",
       "    </tr>\n",
       "    <tr>\n",
       "      <th>2nd Largest Property Use Type</th>\n",
       "      <td>8005</td>\n",
       "      <td>68.2</td>\n",
       "    </tr>\n",
       "    <tr>\n",
       "      <th>2nd Largest Property Use - Gross Floor Area (ft²)</th>\n",
       "      <td>8005</td>\n",
       "      <td>68.2</td>\n",
       "    </tr>\n",
       "    <tr>\n",
       "      <th>Metered Areas  (Water)</th>\n",
       "      <td>4609</td>\n",
       "      <td>39.2</td>\n",
       "    </tr>\n",
       "    <tr>\n",
       "      <th>Water Intensity (All Water Sources) (gal/ft²)</th>\n",
       "      <td>3984</td>\n",
       "      <td>33.9</td>\n",
       "    </tr>\n",
       "    <tr>\n",
       "      <th>Water Use (All Water Sources) (kgal)</th>\n",
       "      <td>3984</td>\n",
       "      <td>33.9</td>\n",
       "    </tr>\n",
       "    <tr>\n",
       "      <th>Latitude</th>\n",
       "      <td>2263</td>\n",
       "      <td>19.3</td>\n",
       "    </tr>\n",
       "    <tr>\n",
       "      <th>Longitude</th>\n",
       "      <td>2263</td>\n",
       "      <td>19.3</td>\n",
       "    </tr>\n",
       "    <tr>\n",
       "      <th>Community Board</th>\n",
       "      <td>2263</td>\n",
       "      <td>19.3</td>\n",
       "    </tr>\n",
       "    <tr>\n",
       "      <th>Council District</th>\n",
       "      <td>2263</td>\n",
       "      <td>19.3</td>\n",
       "    </tr>\n",
       "    <tr>\n",
       "      <th>Census Tract</th>\n",
       "      <td>2263</td>\n",
       "      <td>19.3</td>\n",
       "    </tr>\n",
       "    <tr>\n",
       "      <th>NTA</th>\n",
       "      <td>2263</td>\n",
       "      <td>19.3</td>\n",
       "    </tr>\n",
       "    <tr>\n",
       "      <th>ENERGY STAR Score</th>\n",
       "      <td>2104</td>\n",
       "      <td>17.9</td>\n",
       "    </tr>\n",
       "    <tr>\n",
       "      <th>Weather Normalized Site Natural Gas Intensity (therms/ft²)</th>\n",
       "      <td>1963</td>\n",
       "      <td>16.7</td>\n",
       "    </tr>\n",
       "    <tr>\n",
       "      <th>Weather Normalized Site Natural Gas Use (therms)</th>\n",
       "      <td>1962</td>\n",
       "      <td>16.7</td>\n",
       "    </tr>\n",
       "    <tr>\n",
       "      <th>Weather Normalized Source EUI (kBtu/ft²)</th>\n",
       "      <td>1465</td>\n",
       "      <td>12.5</td>\n",
       "    </tr>\n",
       "    <tr>\n",
       "      <th>Weather Normalized Site EUI (kBtu/ft²)</th>\n",
       "      <td>1465</td>\n",
       "      <td>12.5</td>\n",
       "    </tr>\n",
       "    <tr>\n",
       "      <th>Natural Gas Use (kBtu)</th>\n",
       "      <td>1442</td>\n",
       "      <td>12.3</td>\n",
       "    </tr>\n",
       "    <tr>\n",
       "      <th>Weather Normalized Site Electricity Intensity (kWh/ft²)</th>\n",
       "      <td>787</td>\n",
       "      <td>6.7</td>\n",
       "    </tr>\n",
       "    <tr>\n",
       "      <th>Weather Normalized Site Electricity (kWh)</th>\n",
       "      <td>786</td>\n",
       "      <td>6.7</td>\n",
       "    </tr>\n",
       "    <tr>\n",
       "      <th>Electricity Use - Grid Purchase (kBtu)</th>\n",
       "      <td>244</td>\n",
       "      <td>2.1</td>\n",
       "    </tr>\n",
       "    <tr>\n",
       "      <th>Site EUI (kBtu/ft²)</th>\n",
       "      <td>163</td>\n",
       "      <td>1.4</td>\n",
       "    </tr>\n",
       "    <tr>\n",
       "      <th>Source EUI (kBtu/ft²)</th>\n",
       "      <td>163</td>\n",
       "      <td>1.4</td>\n",
       "    </tr>\n",
       "    <tr>\n",
       "      <th>NYC Building Identification Number (BIN)</th>\n",
       "      <td>162</td>\n",
       "      <td>1.4</td>\n",
       "    </tr>\n",
       "    <tr>\n",
       "      <th>Street Number</th>\n",
       "      <td>124</td>\n",
       "      <td>1.1</td>\n",
       "    </tr>\n",
       "    <tr>\n",
       "      <th>Street Name</th>\n",
       "      <td>122</td>\n",
       "      <td>1.0</td>\n",
       "    </tr>\n",
       "    <tr>\n",
       "      <th>Borough</th>\n",
       "      <td>118</td>\n",
       "      <td>1.0</td>\n",
       "    </tr>\n",
       "    <tr>\n",
       "      <th>DOF Gross Floor Area</th>\n",
       "      <td>118</td>\n",
       "      <td>1.0</td>\n",
       "    </tr>\n",
       "    <tr>\n",
       "      <th>Water Required?</th>\n",
       "      <td>118</td>\n",
       "      <td>1.0</td>\n",
       "    </tr>\n",
       "    <tr>\n",
       "      <th>Direct GHG Emissions (Metric Tons CO2e)</th>\n",
       "      <td>83</td>\n",
       "      <td>0.7</td>\n",
       "    </tr>\n",
       "    <tr>\n",
       "      <th>Total GHG Emissions (Metric Tons CO2e)</th>\n",
       "      <td>74</td>\n",
       "      <td>0.6</td>\n",
       "    </tr>\n",
       "    <tr>\n",
       "      <th>Indirect GHG Emissions (Metric Tons CO2e)</th>\n",
       "      <td>65</td>\n",
       "      <td>0.6</td>\n",
       "    </tr>\n",
       "    <tr>\n",
       "      <th>Metered Areas (Energy)</th>\n",
       "      <td>57</td>\n",
       "      <td>0.5</td>\n",
       "    </tr>\n",
       "    <tr>\n",
       "      <th>DOF Benchmarking Submission Status</th>\n",
       "      <td>30</td>\n",
       "      <td>0.3</td>\n",
       "    </tr>\n",
       "    <tr>\n",
       "      <th>NYC Borough, Block and Lot (BBL) self-reported</th>\n",
       "      <td>11</td>\n",
       "      <td>0.1</td>\n",
       "    </tr>\n",
       "    <tr>\n",
       "      <th>BBL - 10 digits</th>\n",
       "      <td>11</td>\n",
       "      <td>0.1</td>\n",
       "    </tr>\n",
       "    <tr>\n",
       "      <th>Largest Property Use Type</th>\n",
       "      <td>2</td>\n",
       "      <td>0.0</td>\n",
       "    </tr>\n",
       "    <tr>\n",
       "      <th>Largest Property Use Type - Gross Floor Area (ft²)</th>\n",
       "      <td>2</td>\n",
       "      <td>0.0</td>\n",
       "    </tr>\n",
       "  </tbody>\n",
       "</table>\n",
       "</div>"
      ],
      "text/plain": [
       "                                                    Missing Values  \\\n",
       "Fuel Oil #1 Use (kBtu)                                       11737   \n",
       "Diesel #2 Use (kBtu)                                         11730   \n",
       "Address 2                                                    11539   \n",
       "Fuel Oil #5 & 6 Use (kBtu)                                   11152   \n",
       "District Steam Use (kBtu)                                    10810   \n",
       "Fuel Oil #4 Use (kBtu)                                       10425   \n",
       "3rd Largest Property Use Type - Gross Floor Are...           10262   \n",
       "3rd Largest Property Use Type                                10262   \n",
       "Fuel Oil #2 Use (kBtu)                                        9165   \n",
       "2nd Largest Property Use Type                                 8005   \n",
       "2nd Largest Property Use - Gross Floor Area (ft²)             8005   \n",
       "Metered Areas  (Water)                                        4609   \n",
       "Water Intensity (All Water Sources) (gal/ft²)                 3984   \n",
       "Water Use (All Water Sources) (kgal)                          3984   \n",
       "Latitude                                                      2263   \n",
       "Longitude                                                     2263   \n",
       "Community Board                                               2263   \n",
       "Council District                                              2263   \n",
       "Census Tract                                                  2263   \n",
       "NTA                                                           2263   \n",
       "ENERGY STAR Score                                             2104   \n",
       "Weather Normalized Site Natural Gas Intensity (...            1963   \n",
       "Weather Normalized Site Natural Gas Use (therms)              1962   \n",
       "Weather Normalized Source EUI (kBtu/ft²)                      1465   \n",
       "Weather Normalized Site EUI (kBtu/ft²)                        1465   \n",
       "Natural Gas Use (kBtu)                                        1442   \n",
       "Weather Normalized Site Electricity Intensity (...             787   \n",
       "Weather Normalized Site Electricity (kWh)                      786   \n",
       "Electricity Use - Grid Purchase (kBtu)                         244   \n",
       "Site EUI (kBtu/ft²)                                            163   \n",
       "Source EUI (kBtu/ft²)                                          163   \n",
       "NYC Building Identification Number (BIN)                       162   \n",
       "Street Number                                                  124   \n",
       "Street Name                                                    122   \n",
       "Borough                                                        118   \n",
       "DOF Gross Floor Area                                           118   \n",
       "Water Required?                                                118   \n",
       "Direct GHG Emissions (Metric Tons CO2e)                         83   \n",
       "Total GHG Emissions (Metric Tons CO2e)                          74   \n",
       "Indirect GHG Emissions (Metric Tons CO2e)                       65   \n",
       "Metered Areas (Energy)                                          57   \n",
       "DOF Benchmarking Submission Status                              30   \n",
       "NYC Borough, Block and Lot (BBL) self-reported                  11   \n",
       "BBL - 10 digits                                                 11   \n",
       "Largest Property Use Type                                        2   \n",
       "Largest Property Use Type - Gross Floor Area (ft²)               2   \n",
       "\n",
       "                                                    % of Total Values  \n",
       "Fuel Oil #1 Use (kBtu)                                           99.9  \n",
       "Diesel #2 Use (kBtu)                                             99.9  \n",
       "Address 2                                                        98.2  \n",
       "Fuel Oil #5 & 6 Use (kBtu)                                       94.9  \n",
       "District Steam Use (kBtu)                                        92.0  \n",
       "Fuel Oil #4 Use (kBtu)                                           88.8  \n",
       "3rd Largest Property Use Type - Gross Floor Are...               87.4  \n",
       "3rd Largest Property Use Type                                    87.4  \n",
       "Fuel Oil #2 Use (kBtu)                                           78.0  \n",
       "2nd Largest Property Use Type                                    68.2  \n",
       "2nd Largest Property Use - Gross Floor Area (ft²)                68.2  \n",
       "Metered Areas  (Water)                                           39.2  \n",
       "Water Intensity (All Water Sources) (gal/ft²)                    33.9  \n",
       "Water Use (All Water Sources) (kgal)                             33.9  \n",
       "Latitude                                                         19.3  \n",
       "Longitude                                                        19.3  \n",
       "Community Board                                                  19.3  \n",
       "Council District                                                 19.3  \n",
       "Census Tract                                                     19.3  \n",
       "NTA                                                              19.3  \n",
       "ENERGY STAR Score                                                17.9  \n",
       "Weather Normalized Site Natural Gas Intensity (...               16.7  \n",
       "Weather Normalized Site Natural Gas Use (therms)                 16.7  \n",
       "Weather Normalized Source EUI (kBtu/ft²)                         12.5  \n",
       "Weather Normalized Site EUI (kBtu/ft²)                           12.5  \n",
       "Natural Gas Use (kBtu)                                           12.3  \n",
       "Weather Normalized Site Electricity Intensity (...                6.7  \n",
       "Weather Normalized Site Electricity (kWh)                         6.7  \n",
       "Electricity Use - Grid Purchase (kBtu)                            2.1  \n",
       "Site EUI (kBtu/ft²)                                               1.4  \n",
       "Source EUI (kBtu/ft²)                                             1.4  \n",
       "NYC Building Identification Number (BIN)                          1.4  \n",
       "Street Number                                                     1.1  \n",
       "Street Name                                                       1.0  \n",
       "Borough                                                           1.0  \n",
       "DOF Gross Floor Area                                              1.0  \n",
       "Water Required?                                                   1.0  \n",
       "Direct GHG Emissions (Metric Tons CO2e)                           0.7  \n",
       "Total GHG Emissions (Metric Tons CO2e)                            0.6  \n",
       "Indirect GHG Emissions (Metric Tons CO2e)                         0.6  \n",
       "Metered Areas (Energy)                                            0.5  \n",
       "DOF Benchmarking Submission Status                                0.3  \n",
       "NYC Borough, Block and Lot (BBL) self-reported                    0.1  \n",
       "BBL - 10 digits                                                   0.1  \n",
       "Largest Property Use Type                                         0.0  \n",
       "Largest Property Use Type - Gross Floor Area (ft²)                0.0  "
      ]
     },
     "execution_count": 40,
     "metadata": {},
     "output_type": "execute_result"
    }
   ],
   "source": [
    "#function to calculate missing values\n",
    "# source https://stackoverflow.com/questions/26266362/how-to-count-the-nan-values-in-a-column-in-pandas-dataframe/39734251#39734251\n",
    "\n",
    "def missing_values_table(df):\n",
    "    # total missing and percent\n",
    "    mis_val = df.isnull().sum()\n",
    "    mis_val_percent = 100 * df.isnull().sum() / len(df)\n",
    "    \n",
    "    # make table with result\n",
    "    mis_val_table = pd.concat([mis_val, mis_val_percent], axis=1)\n",
    "    \n",
    "    # rename cols\n",
    "    mis_val_table_ren_columns = mis_val_table.rename(columns = {0:'Missing Values', \n",
    "                                                                1: '% of Total Values'})\n",
    "    \n",
    "    mis_val_table_ren_columns = mis_val_table_ren_columns[ \\\n",
    "                mis_val_table_ren_columns.iloc[:,1] != 0] \\\n",
    "                .sort_values('% of Total Values', ascending=False) \\\n",
    "                .round(1)\n",
    "   \n",
    "\n",
    "    print(\"Your selected dataframe has \"+str(df.shape[1])+\" columns.\\n\"\n",
    "        \"There are \" + str(mis_val_table_ren_columns.shape[0]) + \" columns that have missing values. \")\n",
    "    \n",
    "    return mis_val_table_ren_columns\n",
    "    \n",
    "missing_values_table(data)"
   ]
  },
  {
   "cell_type": "code",
   "execution_count": 21,
   "metadata": {},
   "outputs": [
    {
     "data": {
      "text/plain": [
       "Order                                                             0\n",
       "Property Id                                                       0\n",
       "Property Name                                                     0\n",
       "Parent Property Id                                                0\n",
       "Parent Property Name                                              0\n",
       "BBL - 10 digits                                                  11\n",
       "NYC Borough, Block and Lot (BBL) self-reported                   11\n",
       "NYC Building Identification Number (BIN)                        162\n",
       "Address 1 (self-reported)                                         0\n",
       "Address 2                                                     11539\n",
       "Postal Code                                                       0\n",
       "Street Number                                                   124\n",
       "Street Name                                                     122\n",
       "Borough                                                         118\n",
       "DOF Gross Floor Area                                            118\n",
       "Primary Property Type - Self Selected                             0\n",
       "List of All Property Use Types at Property                        0\n",
       "Largest Property Use Type                                         2\n",
       "Largest Property Use Type - Gross Floor Area (ft²)                2\n",
       "2nd Largest Property Use Type                                  8005\n",
       "2nd Largest Property Use - Gross Floor Area (ft²)              8005\n",
       "3rd Largest Property Use Type                                 10262\n",
       "3rd Largest Property Use Type - Gross Floor Area (ft²)        10262\n",
       "Year Built                                                        0\n",
       "Number of Buildings - Self-reported                               0\n",
       "Occupancy                                                         0\n",
       "Metered Areas (Energy)                                           57\n",
       "Metered Areas  (Water)                                         4609\n",
       "ENERGY STAR Score                                              2104\n",
       "Site EUI (kBtu/ft²)                                             163\n",
       "Weather Normalized Site EUI (kBtu/ft²)                         1465\n",
       "Weather Normalized Site Electricity Intensity (kWh/ft²)         787\n",
       "Weather Normalized Site Natural Gas Intensity (therms/ft²)     1963\n",
       "Weather Normalized Source EUI (kBtu/ft²)                       1465\n",
       "Fuel Oil #1 Use (kBtu)                                        11737\n",
       "Fuel Oil #2 Use (kBtu)                                         9165\n",
       "Fuel Oil #4 Use (kBtu)                                        10425\n",
       "Fuel Oil #5 & 6 Use (kBtu)                                    11152\n",
       "Diesel #2 Use (kBtu)                                          11730\n",
       "District Steam Use (kBtu)                                     10810\n",
       "Natural Gas Use (kBtu)                                         1442\n",
       "Weather Normalized Site Natural Gas Use (therms)               1962\n",
       "Electricity Use - Grid Purchase (kBtu)                          244\n",
       "Weather Normalized Site Electricity (kWh)                       786\n",
       "Total GHG Emissions (Metric Tons CO2e)                           74\n",
       "Direct GHG Emissions (Metric Tons CO2e)                          83\n",
       "Indirect GHG Emissions (Metric Tons CO2e)                        65\n",
       "Property GFA - Self-Reported (ft²)                                0\n",
       "Water Use (All Water Sources) (kgal)                           3984\n",
       "Water Intensity (All Water Sources) (gal/ft²)                  3984\n",
       "Source EUI (kBtu/ft²)                                           163\n",
       "Release Date                                                      0\n",
       "Water Required?                                                 118\n",
       "DOF Benchmarking Submission Status                               30\n",
       "Latitude                                                       2263\n",
       "Longitude                                                      2263\n",
       "Community Board                                                2263\n",
       "Council District                                               2263\n",
       "Census Tract                                                   2263\n",
       "NTA                                                            2263\n",
       "dtype: int64"
      ]
     },
     "execution_count": 21,
     "metadata": {},
     "output_type": "execute_result"
    }
   ],
   "source": [
    "data.isnull().sum() # aggregate columns data"
   ]
  },
  {
   "cell_type": "markdown",
   "metadata": {},
   "source": [
    "Cool description of outliers an boxplot https://www.itl.nist.gov/div898/handbook/prc/section1/prc16.htm"
   ]
  },
  {
   "cell_type": "code",
   "execution_count": 41,
   "metadata": {
    "collapsed": true
   },
   "outputs": [],
   "source": [
    "# sorted!\n",
    "d = [30, 171, 184, 201, 212, 250, 265, 270, 272, 289, 305, 306, 322, 322, 336, 346, 351, 370, 390, 404, 409, 411, 436, 437, 439, 441, 444, 448, 451, 453, 470, 480, 482, 487, 494, 495, 499, 503, 514, 521, 522, 527, 548, 550, 559, 560, 570, 572, 574, 578, 585, 592, 592, 607, 616, 618, 621, 629, 637, 638, 640, 656, 668, 707, 709, 719, 737, 739, 752, 758, 766, 792, 792, 794, 802, 818, 830, 832, 843, 858, 860, 869, 918, 925, 953, 991, 1000, 1005, 1068, 1441]"
   ]
  },
  {
   "cell_type": "code",
   "execution_count": 51,
   "metadata": {},
   "outputs": [
    {
     "name": "stdout",
     "output_type": "stream",
     "text": [
      "559 560\n",
      "median= 559.5\n"
     ]
    }
   ],
   "source": [
    "N=len(d)\n",
    "highest1 = d[(N-1)/2]\n",
    "highest2 = d[(N-1)/2 + 1]\n",
    "print highest1, highest2\n",
    "\n",
    "median = (highest1 + highest2)/2.0\n",
    "print \"median=\",median"
   ]
  },
  {
   "cell_type": "code",
   "execution_count": 68,
   "metadata": {},
   "outputs": [
    {
     "name": "stdout",
     "output_type": "stream",
     "text": [
      "22.75 411\n",
      "23.75 429.75\n"
     ]
    }
   ],
   "source": [
    "lower_quartile_idx = .25*(N+1)\n",
    "lower_quartile_low = d[int(lower_quartile_idx)-1]\n",
    "\n",
    "print lower_quartile_idx, lower_quartile_low\n",
    "\n",
    "lower_quartile_up_idx = lower_quartile_idx + 1\n",
    "lower_quartile_up = lower_quartile_low + .75*(d[int(lower_quartile_up_idx-1)] - \n",
    "                                                 d[int(lower_quartile_idx-1)])\n",
    "print lower_quartile_up_idx, lower_quartile_up"
   ]
  },
  {
   "cell_type": "code",
   "execution_count": 70,
   "metadata": {},
   "outputs": [
    {
     "name": "stdout",
     "output_type": "stream",
     "text": [
      "68.25 739\n",
      "69.25 742.25\n"
     ]
    }
   ],
   "source": [
    "upper_quartile_idx = .75*(N+1)\n",
    "upper_quartile_low = d[int(upper_quartile_idx) -1]\n",
    "\n",
    "print upper_quartile_idx, upper_quartile_low\n",
    "\n",
    "upper_quartile_up_idx = upper_quartile_idx+1\n",
    "upper_quartile_up = upper_quartile_low + .25*(d[int(upper_quartile_up_idx-1)] -\n",
    "                                             d[int(upper_quartile_idx-1)])\n",
    "print upper_quartile_up_idx, upper_quartile_up"
   ]
  },
  {
   "cell_type": "code",
   "execution_count": 72,
   "metadata": {},
   "outputs": [
    {
     "name": "stdout",
     "output_type": "stream",
     "text": [
      "312.5\n"
     ]
    }
   ],
   "source": [
    "interquartile_range = upper_quartile_up - lower_quartile_up\n",
    "print interquartile_range"
   ]
  },
  {
   "cell_type": "code",
   "execution_count": 73,
   "metadata": {},
   "outputs": [
    {
     "name": "stdout",
     "output_type": "stream",
     "text": [
      "-39.0\n"
     ]
    }
   ],
   "source": [
    "lower_inner_fence = lower_quartile_up - 1.5*interquartile_range\n",
    "print lower_inner_fence"
   ]
  },
  {
   "cell_type": "code",
   "execution_count": 75,
   "metadata": {},
   "outputs": [
    {
     "name": "stdout",
     "output_type": "stream",
     "text": [
      "1211.0\n"
     ]
    }
   ],
   "source": [
    "upper_inner_fence = upper_quartile_up + 1.5*interquartile_range\n",
    "print upper_inner_fence"
   ]
  },
  {
   "cell_type": "code",
   "execution_count": 76,
   "metadata": {},
   "outputs": [
    {
     "name": "stdout",
     "output_type": "stream",
     "text": [
      "-507.75\n"
     ]
    }
   ],
   "source": [
    "lower_outer_fence = lower_quartile_up - 3.0*interquartile_range\n",
    "print lower_outer_fence"
   ]
  },
  {
   "cell_type": "code",
   "execution_count": 77,
   "metadata": {},
   "outputs": [
    {
     "name": "stdout",
     "output_type": "stream",
     "text": [
      "1679.75\n"
     ]
    }
   ],
   "source": [
    "upper_outer_fence = upper_quartile_up + 3.0*interquartile_range\n",
    "print upper_outer_fence"
   ]
  },
  {
   "cell_type": "code",
   "execution_count": 79,
   "metadata": {},
   "outputs": [
    {
     "name": "stdout",
     "output_type": "stream",
     "text": [
      "mild outlier range is  -39.0 1211.0\n"
     ]
    }
   ],
   "source": [
    "print \"mild outlier range is \", lower_inner_fence, upper_inner_fence "
   ]
  },
  {
   "cell_type": "code",
   "execution_count": 81,
   "metadata": {},
   "outputs": [
    {
     "name": "stdout",
     "output_type": "stream",
     "text": [
      "extreme outlier range is  -507.75 1679.75\n"
     ]
    }
   ],
   "source": [
    "print \"extreme outlier range is \", lower_outer_fence, upper_outer_fence"
   ]
  },
  {
   "cell_type": "code",
   "execution_count": 83,
   "metadata": {
    "collapsed": true
   },
   "outputs": [],
   "source": [
    "%matplotlib inline"
   ]
  },
  {
   "cell_type": "code",
   "execution_count": 84,
   "metadata": {
    "collapsed": true
   },
   "outputs": [],
   "source": [
    "import matplotlib.pyplot as plt"
   ]
  },
  {
   "cell_type": "code",
   "execution_count": 90,
   "metadata": {},
   "outputs": [
    {
     "data": {
      "text/plain": [
       "{'boxes': [<matplotlib.lines.Line2D at 0x7fa222b8e310>],\n",
       " 'caps': [<matplotlib.lines.Line2D at 0x7fa222b1c250>,\n",
       "  <matplotlib.lines.Line2D at 0x7fa222b1c890>],\n",
       " 'fliers': [<matplotlib.lines.Line2D at 0x7fa222b27550>],\n",
       " 'means': [],\n",
       " 'medians': [<matplotlib.lines.Line2D at 0x7fa222b1ced0>],\n",
       " 'whiskers': [<matplotlib.lines.Line2D at 0x7fa222cabad0>,\n",
       "  <matplotlib.lines.Line2D at 0x7fa222b8ebd0>]}"
      ]
     },
     "execution_count": 90,
     "metadata": {},
     "output_type": "execute_result"
    },
    {
     "data": {
      "image/png": "[encoded data removed]",
      "text/plain": [
       "<matplotlib.figure.Figure at 0x7fa222bf3c90>"
      ]
     },
     "metadata": {},
     "output_type": "display_data"
    }
   ],
   "source": [
    "plt.boxplot(d, vert=False)"
   ]
  },
  {
   "cell_type": "code",
   "execution_count": 88,
   "metadata": {},
   "outputs": [
    {
     "data": {
      "text/plain": [
       "(array([  2.,  10.,  18.,  23.,  13.,  16.,   6.,   1.,   0.,   1.]),\n",
       " array([   30. ,   171.1,   312.2,   453.3,   594.4,   735.5,   876.6,\n",
       "         1017.7,  1158.8,  1299.9,  1441. ]),\n",
       " <a list of 10 Patch objects>)"
      ]
     },
     "execution_count": 88,
     "metadata": {},
     "output_type": "execute_result"
    },
    {
     "data": {
      "image/png": "[encoded data removed]",
      "text/plain": [
       "<matplotlib.figure.Figure at 0x7fa222d18990>"
      ]
     },
     "metadata": {},
     "output_type": "display_data"
    }
   ],
   "source": [
    "\n",
    "plt.hist(d)"
   ]
  },
  {
   "cell_type": "markdown",
   "metadata": {},
   "source": [
    "The outlier is identified as the largest value in the data set, 1441, and appears as the circle to the right of the box plot. "
   ]
  },
  {
   "cell_type": "markdown",
   "metadata": {},
   "source": [
    "#### Outliers may contain important information. "
   ]
  },
  {
   "cell_type": "markdown",
   "metadata": {},
   "source": [
    "Outliers should be investigated carefully. Often they contain valuable information about the process under investigation or the data gathering and recording process. Before considering the possible elimination of these points from the data, one should try to understand why they appeared and whether it is likely similar values will continue to appear. Of course, outliers are often bad data points. "
   ]
  },
  {
   "cell_type": "code",
   "execution_count": 91,
   "metadata": {},
   "outputs": [
    {
     "name": "stdout",
     "output_type": "stream",
     "text": [
      "Your selected dataframe has 60 columns.\n",
      "There are 46 columns that have missing values. \n"
     ]
    }
   ],
   "source": [
    "missing_df = missing_values_table(data)"
   ]
  },
  {
   "cell_type": "code",
   "execution_count": 108,
   "metadata": {},
   "outputs": [
    {
     "name": "stdout",
     "output_type": "stream",
     "text": [
      "we will remove 11 columns.\n"
     ]
    }
   ],
   "source": [
    "missing_columns = missing_df[missing_df['% of Total Values'] > 50].index\n",
    "print(\"we will remove %d columns.\" % len(missing_col))"
   ]
  },
  {
   "cell_type": "code",
   "execution_count": 109,
   "metadata": {},
   "outputs": [
    {
     "data": {
      "text/plain": [
       "['Fuel Oil #1 Use (kBtu)',\n",
       " 'Diesel #2 Use (kBtu)',\n",
       " 'Address 2',\n",
       " 'Fuel Oil #5 & 6 Use (kBtu)',\n",
       " 'District Steam Use (kBtu)',\n",
       " 'Fuel Oil #4 Use (kBtu)',\n",
       " '3rd Largest Property Use Type - Gross Floor Area (ft\\xc2\\xb2)',\n",
       " '3rd Largest Property Use Type',\n",
       " 'Fuel Oil #2 Use (kBtu)',\n",
       " '2nd Largest Property Use Type',\n",
       " '2nd Largest Property Use - Gross Floor Area (ft\\xc2\\xb2)']"
      ]
     },
     "execution_count": 109,
     "metadata": {},
     "output_type": "execute_result"
    }
   ],
   "source": [
    "list(missing_df[missing_df['% of Total Values'] > 50].index) # magic!"
   ]
  },
  {
   "cell_type": "code",
   "execution_count": 111,
   "metadata": {
    "collapsed": true
   },
   "outputs": [],
   "source": [
    "data = data.drop(list(missing_columns), axis=1)"
   ]
  },
  {
   "cell_type": "code",
   "execution_count": 112,
   "metadata": {},
   "outputs": [
    {
     "data": {
      "text/plain": [
       "u'0.20.1'"
      ]
     },
     "execution_count": 112,
     "metadata": {},
     "output_type": "execute_result"
    }
   ],
   "source": [
    "pd.__version__"
   ]
  },
  {
   "cell_type": "markdown",
   "metadata": {
    "collapsed": true
   },
   "source": [
    "#### Exploratory Data Analysis \n",
    "Exploratory Data Analysis (EDA) is an open-ended process where we calculate statistics and make figures to find trends, anomalies, patterns, or relationships within the data."
   ]
  },
  {
   "cell_type": "code",
   "execution_count": 114,
   "metadata": {
    "collapsed": true
   },
   "outputs": [],
   "source": [
    "# rename target column\n",
    "data = data.rename(columns = {'ENERGY STAR Score': 'score'})"
   ]
  },
  {
   "cell_type": "code",
   "execution_count": 121,
   "metadata": {},
   "outputs": [
    {
     "data": {
      "text/plain": [
       "<matplotlib.text.Text at 0x7fa2222c51d0>"
      ]
     },
     "execution_count": 121,
     "metadata": {},
     "output_type": "execute_result"
    },
    {
     "data": {
      "image/png": "[encoded data removed]",
      "text/plain": [
       "<matplotlib.figure.Figure at 0x7fa22232e610>"
      ]
     },
     "metadata": {},
     "output_type": "display_data"
    }
   ],
   "source": [
    "# Examining distribution of target value\n",
    "import matplotlib.pyplot as plt\n",
    "plt.figure(figsize=(8, 8))\n",
    "plt.style.use('fivethirtyeight')\n",
    "plt.hist(data['score'].dropna(), bins=100, edgecolor='k')\n",
    "plt.xlabel('Score'); plt.ylabel('Number of Buildings')\n",
    "plt.title('Energy Star Score Distribution')\n",
    "\n",
    "\n"
   ]
  },
  {
   "cell_type": "markdown",
   "metadata": {},
   "source": [
    "This looks quite suspicious! The Energy Star score is a percentile rank, which means we would expect to see a uniform distribution, with each score assigned to the same number of buildings. However, a disproportionate number of buildings have either the highest, 100, or the lowest, 1, score (higher is better for the Energy Star score).\n",
    "\n",
    "If we go back to the definition of the score, we see that it is based on “self-reported energy usage” which might explain the very high scores. Asking building owners to report their own energy usage is like asking students to report their own scores on a test! As a result, this probably is not the most objective measure of a building’s energy efficiency."
   ]
  },
  {
   "cell_type": "markdown",
   "metadata": {},
   "source": [
    "#### Looking for Relationships"
   ]
  },
  {
   "cell_type": "code",
   "execution_count": 122,
   "metadata": {},
   "outputs": [
    {
     "data": {
      "text/plain": [
       "<matplotlib.text.Text at 0x7fa2228d5f10>"
      ]
     },
     "execution_count": 122,
     "metadata": {},
     "output_type": "execute_result"
    },
    {
     "data": {
      "image/png": "[encoded data removed]",
      "text/plain": [
       "<matplotlib.figure.Figure at 0x7fa2228b5a90>"
      ]
     },
     "metadata": {},
     "output_type": "display_data"
    }
   ],
   "source": [
    "plt.hist(data['Site EUI (kBtu/ft²)'].dropna(), bins=20, edgecolor='black')\n",
    "plt.xlabel('Site EUI'); plt.ylabel('Count'); plt.title('Site EUI Distribution')"
   ]
  },
  {
   "cell_type": "markdown",
   "metadata": {},
   "source": [
    "Outliers problem? The graph is incredibly skewed because of the presence of a few buildings with very high scores"
   ]
  },
  {
   "cell_type": "code",
   "execution_count": 123,
   "metadata": {},
   "outputs": [
    {
     "data": {
      "text/plain": [
       "count     11583.000000\n",
       "mean        280.071484\n",
       "std        8607.178877\n",
       "min           0.000000\n",
       "25%          61.800000\n",
       "50%          78.500000\n",
       "75%          97.600000\n",
       "max      869265.000000\n",
       "Name: Site EUI (kBtu/ft²), dtype: float64"
      ]
     },
     "execution_count": 123,
     "metadata": {},
     "output_type": "execute_result"
    }
   ],
   "source": [
    "# get column stat\n",
    "data['Site EUI (kBtu/ft\\xc2\\xb2)'].describe()"
   ]
  },
  {
   "cell_type": "code",
   "execution_count": 124,
   "metadata": {},
   "outputs": [
    {
     "data": {
      "text/plain": [
       "3173     51328.8\n",
       "3170     51831.2\n",
       "3383     78360.1\n",
       "8269     84969.6\n",
       "3263     95560.2\n",
       "8268    103562.7\n",
       "8174    112173.6\n",
       "3898    126307.4\n",
       "7       143974.4\n",
       "8068    869265.0\n",
       "Name: Site EUI (kBtu/ft²), dtype: float64"
      ]
     },
     "execution_count": 124,
     "metadata": {},
     "output_type": "execute_result"
    }
   ],
   "source": [
    "# get the most bigger values of columns\n",
    "data['Site EUI (kBtu/ft\\xc2\\xb2)'].dropna().sort_values().tail(10)"
   ]
  },
  {
   "cell_type": "code",
   "execution_count": 127,
   "metadata": {},
   "outputs": [
    {
     "data": {
      "text/html": [
       "<div>\n",
       "<style>\n",
       "    .dataframe thead tr:only-child th {\n",
       "        text-align: right;\n",
       "    }\n",
       "\n",
       "    .dataframe thead th {\n",
       "        text-align: left;\n",
       "    }\n",
       "\n",
       "    .dataframe tbody tr th {\n",
       "        vertical-align: top;\n",
       "    }\n",
       "</style>\n",
       "<table border=\"1\" class=\"dataframe\">\n",
       "  <thead>\n",
       "    <tr style=\"text-align: right;\">\n",
       "      <th></th>\n",
       "      <th>Order</th>\n",
       "      <th>Property Id</th>\n",
       "      <th>Property Name</th>\n",
       "      <th>Parent Property Id</th>\n",
       "      <th>Parent Property Name</th>\n",
       "      <th>BBL - 10 digits</th>\n",
       "      <th>NYC Borough, Block and Lot (BBL) self-reported</th>\n",
       "      <th>NYC Building Identification Number (BIN)</th>\n",
       "      <th>Address 1 (self-reported)</th>\n",
       "      <th>Postal Code</th>\n",
       "      <th>...</th>\n",
       "      <th>Source EUI (kBtu/ft²)</th>\n",
       "      <th>Release Date</th>\n",
       "      <th>Water Required?</th>\n",
       "      <th>DOF Benchmarking Submission Status</th>\n",
       "      <th>Latitude</th>\n",
       "      <th>Longitude</th>\n",
       "      <th>Community Board</th>\n",
       "      <th>Council District</th>\n",
       "      <th>Census Tract</th>\n",
       "      <th>NTA</th>\n",
       "    </tr>\n",
       "  </thead>\n",
       "  <tbody>\n",
       "    <tr>\n",
       "      <th>8068</th>\n",
       "      <td>9984</td>\n",
       "      <td>4414323</td>\n",
       "      <td>234 Skillman</td>\n",
       "      <td>Not Applicable: Standalone Property</td>\n",
       "      <td>Not Applicable: Standalone Property</td>\n",
       "      <td>3028937502</td>\n",
       "      <td>3028937502</td>\n",
       "      <td>3390250 , 3338313</td>\n",
       "      <td>234 Skillman avenue</td>\n",
       "      <td>11211</td>\n",
       "      <td>...</td>\n",
       "      <td>912801.1</td>\n",
       "      <td>05/01/2017 11:34:14 PM</td>\n",
       "      <td>NaN</td>\n",
       "      <td>In Compliance</td>\n",
       "      <td>40.716233</td>\n",
       "      <td>-73.94141</td>\n",
       "      <td>1.0</td>\n",
       "      <td>34.0</td>\n",
       "      <td>477.0</td>\n",
       "      <td>East Williamsburg                             ...</td>\n",
       "    </tr>\n",
       "  </tbody>\n",
       "</table>\n",
       "<p>1 rows × 49 columns</p>\n",
       "</div>"
      ],
      "text/plain": [
       "      Order  Property Id Property Name                   Parent Property Id  \\\n",
       "8068   9984      4414323  234 Skillman  Not Applicable: Standalone Property   \n",
       "\n",
       "                     Parent Property Name BBL - 10 digits  \\\n",
       "8068  Not Applicable: Standalone Property      3028937502   \n",
       "\n",
       "     NYC Borough, Block and Lot (BBL) self-reported  \\\n",
       "8068                                     3028937502   \n",
       "\n",
       "     NYC Building Identification Number (BIN) Address 1 (self-reported)  \\\n",
       "8068                        3390250 , 3338313       234 Skillman avenue   \n",
       "\n",
       "     Postal Code                        ...                          \\\n",
       "8068       11211                        ...                           \n",
       "\n",
       "     Source EUI (kBtu/ft²)            Release Date Water Required?  \\\n",
       "8068              912801.1  05/01/2017 11:34:14 PM             NaN   \n",
       "\n",
       "      DOF Benchmarking Submission Status   Latitude Longitude Community Board  \\\n",
       "8068                       In Compliance  40.716233 -73.94141             1.0   \n",
       "\n",
       "      Council District  Census Tract  \\\n",
       "8068              34.0         477.0   \n",
       "\n",
       "                                                    NTA  \n",
       "8068  East Williamsburg                             ...  \n",
       "\n",
       "[1 rows x 49 columns]"
      ]
     },
     "execution_count": 127,
     "metadata": {},
     "output_type": "execute_result"
    }
   ],
   "source": [
    "# get info for outliers redord\n",
    "data.loc[data['Site EUI (kBtu/ft\\xc2\\xb2)'] == 869265, :]"
   ]
  },
  {
   "cell_type": "code",
   "execution_count": null,
   "metadata": {
    "collapsed": true
   },
   "outputs": [],
   "source": []
  }
 ],
 "metadata": {
  "kernelspec": {
   "display_name": "Python 2",
   "language": "python",
   "name": "python2"
  },
  "language_info": {
   "codemirror_mode": {
    "name": "ipython",
    "version": 2
   },
   "file_extension": ".py",
   "mimetype": "text/x-python",
   "name": "python",
   "nbconvert_exporter": "python",
   "pygments_lexer": "ipython2",
   "version": "2.7.13"
  }
 },
 "nbformat": 4,
 "nbformat_minor": 2
}
