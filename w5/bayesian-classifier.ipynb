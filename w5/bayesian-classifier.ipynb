{
 "cells": [
  {
   "cell_type": "markdown",
   "metadata": {},
   "source": [
    "Все, что нужно будет делать — запускать методы из sklearn. Вам предлагается выяснить, какое распределение лучше использовать в наивном байесовском классификаторе в зависимости от вида признаков."
   ]
  },
  {
   "cell_type": "markdown",
   "metadata": {},
   "source": [
    "Загрузите датасеты digits и breast_cancer из sklearn.datasets."
   ]
  },
  {
   "cell_type": "code",
   "execution_count": 1,
   "metadata": {
    "collapsed": true
   },
   "outputs": [],
   "source": [
    "import sklearn.datasets"
   ]
  },
  {
   "cell_type": "markdown",
   "metadata": {},
   "source": [
    "Выведите несколько строчек из обучающих выборок и посмотрите на признаки. "
   ]
  },
  {
   "cell_type": "code",
   "execution_count": 6,
   "metadata": {
    "collapsed": true
   },
   "outputs": [],
   "source": [
    "data = sklearn.datasets.load_breast_cancer()"
   ]
  },
  {
   "cell_type": "code",
   "execution_count": 19,
   "metadata": {},
   "outputs": [
    {
     "name": "stdout",
     "output_type": "stream",
     "text": [
      "['mean radius' 'mean texture' 'mean perimeter' 'mean area'\n",
      " 'mean smoothness' 'mean compactness' 'mean concavity'\n",
      " 'mean concave points' 'mean symmetry' 'mean fractal dimension'\n",
      " 'radius error' 'texture error' 'perimeter error' 'area error'\n",
      " 'smoothness error' 'compactness error' 'concavity error'\n",
      " 'concave points error' 'symmetry error' 'fractal dimension error'\n",
      " 'worst radius' 'worst texture' 'worst perimeter' 'worst area'\n",
      " 'worst smoothness' 'worst compactness' 'worst concavity'\n",
      " 'worst concave points' 'worst symmetry' 'worst fractal dimension'] \n",
      "['malignant' 'benign']\n"
     ]
    }
   ],
   "source": [
    "print data.feature_names, \"\\n\", data.target_names"
   ]
  },
  {
   "cell_type": "code",
   "execution_count": 24,
   "metadata": {},
   "outputs": [
    {
     "name": "stdout",
     "output_type": "stream",
     "text": [
      "[[  1.66000000e+01   2.80800000e+01   1.08300000e+02   8.58100000e+02\n",
      "    8.45500000e-02   1.02300000e-01   9.25100000e-02   5.30200000e-02\n",
      "    1.59000000e-01   5.64800000e-02   4.56400000e-01   1.07500000e+00\n",
      "    3.42500000e+00   4.85500000e+01   5.90300000e-03   3.73100000e-02\n",
      "    4.73000000e-02   1.55700000e-02   1.31800000e-02   3.89200000e-03\n",
      "    1.89800000e+01   3.41200000e+01   1.26700000e+02   1.12400000e+03\n",
      "    1.13900000e-01   3.09400000e-01   3.40300000e-01   1.41800000e-01\n",
      "    2.21800000e-01   7.82000000e-02]\n",
      " [  2.06000000e+01   2.93300000e+01   1.40100000e+02   1.26500000e+03\n",
      "    1.17800000e-01   2.77000000e-01   3.51400000e-01   1.52000000e-01\n",
      "    2.39700000e-01   7.01600000e-02   7.26000000e-01   1.59500000e+00\n",
      "    5.77200000e+00   8.62200000e+01   6.52200000e-03   6.15800000e-02\n",
      "    7.11700000e-02   1.66400000e-02   2.32400000e-02   6.18500000e-03\n",
      "    2.57400000e+01   3.94200000e+01   1.84600000e+02   1.82100000e+03\n",
      "    1.65000000e-01   8.68100000e-01   9.38700000e-01   2.65000000e-01\n",
      "    4.08700000e-01   1.24000000e-01]\n",
      " [  7.76000000e+00   2.45400000e+01   4.79200000e+01   1.81000000e+02\n",
      "    5.26300000e-02   4.36200000e-02   0.00000000e+00   0.00000000e+00\n",
      "    1.58700000e-01   5.88400000e-02   3.85700000e-01   1.42800000e+00\n",
      "    2.54800000e+00   1.91500000e+01   7.18900000e-03   4.66000000e-03\n",
      "    0.00000000e+00   0.00000000e+00   2.67600000e-02   2.78300000e-03\n",
      "    9.45600000e+00   3.03700000e+01   5.91600000e+01   2.68600000e+02\n",
      "    8.99600000e-02   6.44400000e-02   0.00000000e+00   0.00000000e+00\n",
      "    2.87100000e-01   7.03900000e-02]]\n"
     ]
    }
   ],
   "source": [
    "print data.data[0-3:]"
   ]
  },
  {
   "cell_type": "code",
   "execution_count": 26,
   "metadata": {},
   "outputs": [
    {
     "name": "stdout",
     "output_type": "stream",
     "text": [
      "[0 0 1]\n"
     ]
    }
   ],
   "source": [
    "print data.target[0-3:]"
   ]
  },
  {
   "cell_type": "code",
   "execution_count": 40,
   "metadata": {},
   "outputs": [
    {
     "name": "stdout",
     "output_type": "stream",
     "text": [
      "[0 1 2 3 4 5 6 7 8 9]\n"
     ]
    }
   ],
   "source": [
    "data_digit = sklearn.datasets.load_digits()\n",
    "print data_digit.target_names"
   ]
  },
  {
   "cell_type": "code",
   "execution_count": 41,
   "metadata": {},
   "outputs": [
    {
     "name": "stdout",
     "output_type": "stream",
     "text": [
      "[[  0.   0.   1.  11.  15.   1.   0.   0.   0.   0.  13.  16.   8.   2.\n",
      "    1.   0.   0.   0.  16.  15.  10.  16.   5.   0.   0.   0.   8.  16.\n",
      "   16.   7.   0.   0.   0.   0.   9.  16.  16.   4.   0.   0.   0.   0.\n",
      "   16.  14.  16.  15.   0.   0.   0.   0.  15.  15.  15.  16.   0.   0.\n",
      "    0.   0.   2.   9.  13.   6.   0.   0.]\n",
      " [  0.   0.   2.  10.   7.   0.   0.   0.   0.   0.  14.  16.  16.  15.\n",
      "    1.   0.   0.   4.  16.   7.   3.  16.   7.   0.   0.   5.  16.  10.\n",
      "    7.  16.   4.   0.   0.   0.   5.  14.  14.  16.   4.   0.   0.   0.\n",
      "    0.   0.   0.  16.   2.   0.   0.   0.   4.   7.   7.  16.   2.   0.\n",
      "    0.   0.   5.  12.  16.  12.   0.   0.]\n",
      " [  0.   0.  10.  14.   8.   1.   0.   0.   0.   2.  16.  14.   6.   1.\n",
      "    0.   0.   0.   0.  15.  15.   8.  15.   0.   0.   0.   0.   5.  16.\n",
      "   16.  10.   0.   0.   0.   0.  12.  15.  15.  12.   0.   0.   0.   4.\n",
      "   16.   6.   4.  16.   6.   0.   0.   8.  16.  10.   8.  16.   8.   0.\n",
      "    0.   1.   8.  12.  14.  12.   1.   0.]]\n"
     ]
    }
   ],
   "source": [
    "print data_digit.data[0-3:]"
   ]
  },
  {
   "cell_type": "code",
   "execution_count": 42,
   "metadata": {},
   "outputs": [
    {
     "name": "stdout",
     "output_type": "stream",
     "text": [
      "[8 9 8]\n"
     ]
    }
   ],
   "source": [
    "print data_digit.target[0-3:]"
   ]
  },
  {
   "cell_type": "markdown",
   "metadata": {},
   "source": [
    "С помощью sklearn.cross_validation.cross_val_score c настройками по умолчанию и вызова метода mean() у возвращаемого этой функцией numpy.ndarray, сравните качество работы наивных байесовских классификаторов на этих двух датасетах. Для сравнения предлагается использовать BernoulliNB, MultinomialNB и GaussianNB. "
   ]
  },
  {
   "cell_type": "code",
   "execution_count": 53,
   "metadata": {},
   "outputs": [
    {
     "name": "stdout",
     "output_type": "stream",
     "text": [
      "0.938968710089 0.896642948367 0.627572523262\n"
     ]
    }
   ],
   "source": [
    "from sklearn.model_selection import cross_val_score\n",
    "from sklearn.naive_bayes import GaussianNB\n",
    "from sklearn.naive_bayes import MultinomialNB\n",
    "from sklearn.naive_bayes import BernoulliNB\n",
    "\n",
    "cv=20\n",
    "gs = GaussianNB()\n",
    "gs_scores = cross_val_score(gs, data.data, data.target, cv=cv)\n",
    "\n",
    "mn = MultinomialNB()\n",
    "mn_scores = cross_val_score(mn, data.data, data.target, cv=cv)\n",
    "\n",
    "br = BernoulliNB()\n",
    "br_scores = cross_val_score(br, data.data, data.target, cv=cv)\n",
    "\n",
    "print gs_scores.mean(), mn_scores.mean(), br_scores.mean()\n",
    "\n"
   ]
  },
  {
   "cell_type": "code",
   "execution_count": 43,
   "metadata": {},
   "outputs": [
    {
     "name": "stdout",
     "output_type": "stream",
     "text": [
      "0.806520755555 0.871470302548 0.82477104598\n"
     ]
    }
   ],
   "source": [
    "digit_gs_scores = cross_val_score(gs, data_digit.data, data_digit.target, cv=5)\n",
    "digit_mn_scores = cross_val_score(mn, data_digit.data, data_digit.target, cv=5)\n",
    "digit_br_scores = cross_val_score(br, data_digit.data, data_digit.target, cv=5)\n",
    "\n",
    "print digit_gs_scores.mean(), digit_mn_scores.mean(), digit_br_scores.mean()\n"
   ]
  },
  {
   "cell_type": "markdown",
   "metadata": {},
   "source": [
    "Насколько полученные результаты согласуются с рекомендациями из лекций?"
   ]
  },
  {
   "cell_type": "markdown",
   "metadata": {},
   "source": [
    "breast_cancer cогласуется с рекомендацией:\n",
    "* Если в задаче есть непрерывные признаки с небольшим разбросом, то можно попробовать использовать нормальное распределение.\n",
    "\n",
    "digits\n",
    "* Если решается задача, связанная с текстами или какими-то другими разряженными дискретными при-\n",
    "знаками, то хорошо подходит мультиномиальное распределение."
   ]
  },
  {
   "cell_type": "markdown",
   "metadata": {},
   "source": [
    "Для сдачи задания, ответьте на приведенные ниже вопросы.\n",
    "\n",
    "* Вопрос 1\n",
    "\n",
    "Каким получилось максимальное качество классификации на датасете breast_cancer?"
   ]
  },
  {
   "cell_type": "markdown",
   "metadata": {},
   "source": [
    "0.938968710089"
   ]
  },
  {
   "cell_type": "markdown",
   "metadata": {},
   "source": [
    "* Вопрос 2\n",
    "\n",
    "Каким получилось максимальное качество классификации на датасете digits?"
   ]
  },
  {
   "cell_type": "markdown",
   "metadata": {},
   "source": [
    "0.871470302548"
   ]
  },
  {
   "cell_type": "markdown",
   "metadata": {},
   "source": [
    "* Вопрос 3\n",
    "\n",
    "Выберите верные утверждения и запишите их номера через пробел (в порядке возрастания номера):\n",
    "\n",
    "1) На вещественных признаках лучше всего сработал наивный байесовский классификатор с распределением Бернулли\n",
    "\n",
    "2) На вещественных признаках лучше всего сработал наивный байесовский классификатор с мультиномиальным распределением\n",
    "\n",
    "3) Мультиномиальное распределение лучше показало себя на выборке с целыми неотрицательными значениями признаков\n",
    "\n",
    "4) На вещественных признаках лучше всего сработало нормальное распределение\n"
   ]
  },
  {
   "cell_type": "markdown",
   "metadata": {},
   "source": [
    "3 4"
   ]
  },
  {
   "cell_type": "code",
   "execution_count": null,
   "metadata": {
    "collapsed": true
   },
   "outputs": [],
   "source": []
  }
 ],
 "metadata": {
  "kernelspec": {
   "display_name": "Python 2",
   "language": "python",
   "name": "python2"
  },
  "language_info": {
   "codemirror_mode": {
    "name": "ipython",
    "version": 2
   },
   "file_extension": ".py",
   "mimetype": "text/x-python",
   "name": "python",
   "nbconvert_exporter": "python",
   "pygments_lexer": "ipython2",
   "version": "2.7.13"
  }
 },
 "nbformat": 4,
 "nbformat_minor": 2
}
