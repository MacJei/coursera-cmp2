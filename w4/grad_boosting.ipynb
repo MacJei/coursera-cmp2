{
 "cells": [
  {
   "cell_type": "markdown",
   "metadata": {},
   "source": [
    "# Градиентный бустинг своими руками\n",
    "\n",
    "**Внимание:** в тексте задания произошли изменения - поменялось число деревьев (теперь 50), правило изменения величины шага в задании 3 и добавился параметр `random_state` у решающего дерева. Правильные ответы не поменялись, но теперь их проще получить. Также исправлена опечатка в функции `gbm_predict`.\n",
    "\n",
    "В этом задании будет использоваться датасет `boston` из `sklearn.datasets`. Оставьте последние 25% объектов для контроля качества, разделив `X` и `y` на `X_train`, `y_train` и `X_test`, `y_test`.\n",
    "\n",
    "Целью задания будет реализовать простой вариант градиентного бустинга над регрессионными деревьями для случая квадратичной функции потерь."
   ]
  },
  {
   "cell_type": "code",
   "execution_count": 1,
   "metadata": {},
   "outputs": [
    {
     "name": "stdout",
     "output_type": "stream",
     "text": [
      "(506, 13) (379, 13) (127, 13) (379,) (127,)\n"
     ]
    }
   ],
   "source": [
    "import sklearn.datasets\n",
    "\n",
    "\n",
    "def my_split(x, frac):\n",
    "    return x[0 : int(round(x.shape[0]-(x.shape[0]*frac)-1))], x[- int(round(x.shape[0]*frac)) :]\n",
    "\n",
    "X, y = sklearn.datasets.load_boston(return_X_y = True)\n",
    "\n",
    "X_train, X_test = my_split(X, 0.25)\n",
    "y_train, y_test = my_split(y, 0.25)\n",
    "\n",
    "print X.shape, X_train.shape, X_test.shape, y_train.shape, y_test.shape"
   ]
  },
  {
   "cell_type": "markdown",
   "metadata": {},
   "source": [
    "t = np.array([1,2,3,4,5,6,7,8,9,10]) #np.ones(10)\n",
    "#t[-5:]\n",
    "my_split(t, 0.25)"
   ]
  },
  {
   "cell_type": "code",
   "execution_count": 31,
   "metadata": {},
   "outputs": [
    {
     "name": "stdout",
     "output_type": "stream",
     "text": [
      "Boston House Prices dataset\n",
      "===========================\n",
      "\n",
      "Notes\n",
      "------\n",
      "Data Set Characteristics:  \n",
      "\n",
      "    :Number of Instances: 506 \n",
      "\n",
      "    :Number of Attributes: 13 numeric/categorical predictive\n",
      "    \n",
      "    :Median Value (attribute 14) is usually the target\n",
      "\n",
      "    :Attribute Information (in order):\n",
      "        - CRIM     per capita crime rate by town\n",
      "        - ZN       proportion of residential land zoned for lots over 25,000 sq.ft.\n",
      "        - INDUS    proportion of non-retail business acres per town\n",
      "        - CHAS     Charles River dummy variable (= 1 if tract bounds river; 0 otherwise)\n",
      "        - NOX      nitric oxides concentration (parts per 10 million)\n",
      "        - RM       average number of rooms per dwelling\n",
      "        - AGE      proportion of owner-occupied units built prior to 1940\n",
      "        - DIS      weighted distances to five Boston employment centres\n",
      "        - RAD      index of accessibility to radial highways\n",
      "        - TAX      full-value property-tax rate per $10,000\n",
      "        - PTRATIO  pupil-teacher ratio by town\n",
      "        - B        1000(Bk - 0.63)^2 where Bk is the proportion of blacks by town\n",
      "        - LSTAT    % lower status of the population\n",
      "        - MEDV     Median value of owner-occupied homes in $1000's\n",
      "\n",
      "    :Missing Attribute Values: None\n",
      "\n",
      "    :Creator: Harrison, D. and Rubinfeld, D.L.\n",
      "\n",
      "This is a copy of UCI ML housing dataset.\n",
      "http://archive.ics.uci.edu/ml/datasets/Housing\n",
      "\n",
      "\n",
      "This dataset was taken from the StatLib library which is maintained at Carnegie Mellon University.\n",
      "\n",
      "The Boston house-price data of Harrison, D. and Rubinfeld, D.L. 'Hedonic\n",
      "prices and the demand for clean air', J. Environ. Economics & Management,\n",
      "vol.5, 81-102, 1978.   Used in Belsley, Kuh & Welsch, 'Regression diagnostics\n",
      "...', Wiley, 1980.   N.B. Various transformations are used in the table on\n",
      "pages 244-261 of the latter.\n",
      "\n",
      "The Boston house-price data has been used in many machine learning papers that address regression\n",
      "problems.   \n",
      "     \n",
      "**References**\n",
      "\n",
      "   - Belsley, Kuh & Welsch, 'Regression diagnostics: Identifying Influential Data and Sources of Collinearity', Wiley, 1980. 244-261.\n",
      "   - Quinlan,R. (1993). Combining Instance-Based and Model-Based Learning. In Proceedings on the Tenth International Conference of Machine Learning, 236-243, University of Massachusetts, Amherst. Morgan Kaufmann.\n",
      "   - many more! (see http://archive.ics.uci.edu/ml/datasets/Housing)\n",
      "\n"
     ]
    }
   ],
   "source": [
    "boston = sklearn.datasets.load_boston()\n",
    "print boston.DESCR"
   ]
  },
  {
   "cell_type": "markdown",
   "metadata": {},
   "source": [
    "## Задание 1\n",
    "\n",
    "Как вы уже знаете из лекций, **бустинг** - это метод построения композиций базовых алгоритмов с помощью последовательного добавления к текущей композиции нового алгоритма с некоторым коэффициентом. \n",
    "\n",
    "Градиентный бустинг обучает каждый новый алгоритм так, чтобы он приближал антиградиент ошибки по ответам композиции на обучающей выборке. Аналогично минимизации функций методом градиентного спуска, в градиентном бустинге мы подправляем композицию, изменяя алгоритм в направлении антиградиента ошибки.\n",
    "\n",
    "Воспользуйтесь формулой из лекций, задающей ответы на обучающей выборке, на которые нужно обучать новый алгоритм (фактически это лишь чуть более подробно расписанный градиент от ошибки), и получите частный ее случай, если функция потерь `L` - квадрат отклонения ответа композиции `a(x)` от правильного ответа `y` на данном `x`.\n",
    "\n",
    "Если вы давно не считали производную самостоятельно, вам поможет таблица производных элементарных функций (которую несложно найти в интернете) и правило дифференцирования сложной функции. После дифференцирования квадрата у вас возникнет множитель 2 — т.к. нам все равно предстоит выбирать коэффициент, с которым будет добавлен новый базовый алгоритм, проигноируйте этот множитель при дальнейшем построении алгоритма."
   ]
  },
  {
   "cell_type": "markdown",
   "metadata": {},
   "source": [
    "Компоненты вектора сдвигов s, фактически, являются теми значениями, которые на объектах обучающей\n",
    "выборки должен принимать новый алгоритм b N (x), чтобы минимизировать ошибку строящейся композиции."
   ]
  },
  {
   "cell_type": "code",
   "execution_count": 2,
   "metadata": {
    "collapsed": true
   },
   "outputs": [],
   "source": [
    "# ? думаю как то так\n",
    "def L_anti_gradient(a_compose_x, y):\n",
    "    return -(a_compose_x - y)"
   ]
  },
  {
   "cell_type": "markdown",
   "metadata": {},
   "source": [
    "## Задание 2\n",
    "\n",
    "Заведите массив для объектов `DecisionTreeRegressor` (будем их использовать в качестве базовых алгоритмов) и для вещественных чисел (это будут коэффициенты перед базовыми алгоритмами). \n",
    "\n",
    "В цикле от обучите последовательно 50 решающих деревьев с параметрами `max_depth=5` и `random_state=42` (остальные параметры - по умолчанию). В бустинге зачастую используются сотни и тысячи деревьев, но мы ограничимся 50, чтобы алгоритм работал быстрее, и его было проще отлаживать (т.к. цель задания разобраться, как работает метод). Каждое дерево должно обучаться на одном и том же множестве объектов, но ответы, которые учится прогнозировать дерево, будут меняться в соответствие с полученным в задании 1 правилом. \n",
    "\n",
    "Попробуйте для начала всегда брать коэффициент равным 0.9. Обычно оправдано выбирать коэффициент значительно меньшим - порядка 0.05 или 0.1, но т.к. в нашем учебном примере на стандартном датасете будет всего 50 деревьев, возьмем для начала шаг побольше.\n",
    "\n",
    "В процессе реализации обучения вам потребуется функция, которая будет вычислять прогноз построенной на данный момент композиции деревьев на выборке `X`:\n",
    "\n",
    "```\n",
    "def gbm_predict(X):\n",
    "    return [sum([coeff * algo.predict([x])[0] for algo, coeff in zip(base_algorithms_list, coefficients_list)]) for x in X]\n",
    "(считаем, что base_algorithms_list - список с базовыми алгоритмами, coefficients_list - список с коэффициентами перед алгоритмами)\n",
    "```\n",
    "\n",
    "Эта же функция поможет вам получить прогноз на контрольной выборке и оценить качество работы вашего алгоритма с помощью `mean_squared_error` в `sklearn.metrics`. \n",
    "\n",
    "Возведите результат в степень 0.5, чтобы получить `RMSE`. Полученное значение `RMSE` — **ответ в пункте 2**."
   ]
  },
  {
   "cell_type": "markdown",
   "metadata": {},
   "source": [
    "import numpy as np\n",
    "a1 = np.ones(3)\n",
    "a2 = np.ones(3)\n",
    "#a1 = a1 * 2\n",
    "a2 += (a1 * 2)\n",
    "\n",
    "print a2\n"
   ]
  },
  {
   "cell_type": "code",
   "execution_count": 3,
   "metadata": {
    "collapsed": true
   },
   "outputs": [],
   "source": [
    "from sklearn.tree import DecisionTreeRegressor\n",
    "import numpy as np\n",
    "\n",
    "def gbm_predict(X):\n",
    "    return [sum([coeff * algo.predict([x])[0] \n",
    "                for algo, coeff in zip(base_algorithms_list, coefficients_list)]) \n",
    "                    for x in X]\n",
    "\n",
    "base_algorithms_list = []\n",
    "coefficients_list = []\n",
    "\n",
    "#s = np.copy(y_train)\n",
    "#s.fill(np.average(y_train))\n",
    "s = np.zeros(X_train.shape[0]) # initial zeros for shift vector\n",
    "a_x = np.zeros(y_train.shape[0]) # current compose tree results \n",
    "step = 0.9\n",
    "for _ in range(50):\n",
    "    dtr = DecisionTreeRegressor(max_depth=5, random_state=42)\n",
    "    bn = dtr.fit(X=X_train, y=s)\n",
    "    predict = bn.predict(X_train)\n",
    "    #predict = gbm_predict(X_train)\n",
    "    base_algorithms_list.append(bn)\n",
    "    coefficients_list.append(step)\n",
    "    a_x += (step * predict)\n",
    "    #print a_x\n",
    "    s = L_anti_gradient(a_x, y_train)\n",
    "    #s = (y_train - a_x)\n",
    "\n"
   ]
  },
  {
   "cell_type": "code",
   "execution_count": 4,
   "metadata": {},
   "outputs": [
    {
     "name": "stdout",
     "output_type": "stream",
     "text": [
      "5.47676640788\n",
      "14.078745247 10.2\n",
      "15.4880976115 10.4\n",
      "14.13632885 10.9\n",
      "15.7064544345 11.3\n",
      "15.1146862828 12.3\n",
      "17.0787749535 8.8\n",
      "15.3631749426 7.2\n",
      "15.3729041713 10.5\n",
      "17.7415460401 7.4\n",
      "15.4137905544 10.2\n",
      "14.4572274408 11.5\n",
      "15.774205085 15.1\n",
      "18.3124522955 23.2\n",
      "15.4141336491 9.7\n",
      "21.6591141543 13.8\n",
      "16.375481611 12.7\n",
      "14.9991717157 13.1\n",
      "14.063418423 12.5\n",
      "15.1561422744 8.5\n",
      "16.0665248014 5.0\n",
      "17.7796344988 6.3\n",
      "15.7366563619 5.6\n",
      "13.8771683882 7.2\n",
      "14.0740418206 12.1\n",
      "15.4424048415 8.3\n",
      "16.8705777968 8.5\n",
      "16.2998208037 5.0\n",
      "14.1027131994 11.9\n",
      "21.4900972017 27.9\n",
      "14.901850611 17.2\n",
      "13.8817201666 27.5\n",
      "21.8635510503 15.0\n",
      "13.1161433024 17.2\n",
      "14.9037800586 17.9\n",
      "14.9499040043 16.3\n",
      "14.8743231648 7.0\n",
      "13.1473719427 7.2\n",
      "13.7630322072 7.5\n",
      "17.1519305656 10.4\n",
      "15.0698139546 8.8\n",
      "16.2580113318 8.4\n",
      "19.3348561756 16.7\n",
      "19.77509599 14.2\n",
      "22.1489304942 20.8\n",
      "15.8342418844 13.4\n",
      "19.7699758041 11.7\n",
      "15.0990252378 8.3\n",
      "23.5044005151 10.2\n",
      "22.9187369305 10.9\n",
      "16.8446344021 11.0\n",
      "13.0454600079 9.5\n",
      "16.1133748811 14.5\n",
      "14.0291511228 14.1\n",
      "25.8378427919 16.1\n",
      "16.6044410696 14.3\n",
      "20.9566850761 11.7\n",
      "13.8896089959 13.4\n",
      "13.5871113071 9.6\n",
      "14.8080834222 8.7\n",
      "16.1781407238 8.4\n",
      "17.2615027299 12.8\n",
      "16.1396263745 10.5\n",
      "15.5464300544 17.1\n",
      "15.183814209 18.4\n",
      "15.6872592652 15.4\n",
      "15.4452486324 10.8\n",
      "14.0214260459 11.8\n",
      "15.3445935871 14.9\n",
      "16.6883609971 12.6\n",
      "15.8379227715 14.1\n",
      "15.4690391419 13.0\n",
      "15.4467664064 13.4\n",
      "16.3889911685 15.2\n",
      "16.3629866321 16.1\n",
      "31.2376991084 17.8\n",
      "14.1986880039 14.9\n",
      "16.4766523756 14.1\n",
      "17.2034728846 12.7\n",
      "18.5700132429 13.5\n",
      "16.6744840357 14.9\n",
      "22.0395477523 20.0\n",
      "15.7505755519 16.4\n",
      "22.0087193061 17.7\n",
      "22.1226631405 19.5\n",
      "23.1903159949 20.2\n",
      "24.5771390669 21.4\n",
      "22.809229589 19.9\n",
      "16.9378488157 19.0\n",
      "15.1926191066 19.1\n",
      "19.7417457596 19.1\n",
      "23.8457182436 20.1\n",
      "16.7608640077 19.9\n",
      "23.6427805875 19.6\n",
      "23.1381644068 23.2\n",
      "36.1703306853 29.8\n",
      "15.8395923441 13.8\n",
      "15.2388010751 13.3\n",
      "15.3204487146 16.7\n",
      "15.728554318 12.0\n",
      "17.061597925 14.6\n",
      "24.3044115941 21.4\n",
      "24.5037655884 23.0\n",
      "29.8129550143 23.7\n",
      "33.9856807369 25.0\n",
      "22.9687723244 21.8\n",
      "23.7421744942 20.6\n",
      "22.7548450212 21.2\n",
      "24.6215048619 19.1\n",
      "23.4429818584 20.6\n",
      "18.5103003184 15.2\n",
      "15.3205262423 7.0\n",
      "14.9006104179 8.1\n",
      "16.201080082 13.6\n",
      "17.4154907111 20.1\n",
      "19.5681632576 21.8\n",
      "17.7520727107 24.5\n",
      "18.7296539355 23.1\n",
      "20.9914281727 19.7\n",
      "20.2475848341 18.3\n",
      "19.74908744 21.2\n",
      "20.5000558131 17.5\n",
      "20.0114724407 16.8\n",
      "29.2190434903 22.4\n",
      "17.7669532171 20.6\n",
      "30.1118576078 23.9\n",
      "31.1578648761 22.0\n",
      "17.2069369776 11.9\n"
     ]
    }
   ],
   "source": [
    "from sklearn.metrics import mean_squared_error\n",
    "\n",
    "#print a_x.shape, len(base_algorithms_list), len(coefficients_list) \n",
    "y_pred = gbm_predict(X_test)\n",
    "\n",
    "answer1 = (mean_squared_error(y_test, y_pred)) ** 0.5\n",
    "print answer1\n",
    "\n",
    "for i in range(len(y_test)):\n",
    "    print y_pred[i], y_test[i]\n"
   ]
  },
  {
   "cell_type": "markdown",
   "metadata": {},
   "source": [
    "def gbm_predict(X):\n",
    "    return [sum([coeff * algo.predict([x])[0] for algo, coeff in zip(base_algorithm, coeffs)]) for x in X]\n",
    "\n",
    "base_algorithm=[]\n",
    "coeffs=[]\n",
    "s = y_train\n",
    "for i in range(50):\n",
    "    clf=DecisionTreeRegressor(max_depth=5, random_state=42)\n",
    "    clf.fit(X=X_train, y=s)\n",
    "    base_algorithm.append(clf)\n",
    "    coeffs.append(0.9)\n",
    "    s=y_train-gbm_predict(X_train)\n",
    "    \n",
    "error=mean_squared_error(y_test, gbm_predict(X_test))\n",
    "rmse=error**0.5\n",
    "print rmse\n"
   ]
  },
  {
   "cell_type": "markdown",
   "metadata": {},
   "source": [
    "## Задание 3\n",
    "\n",
    "Вас может также беспокоить, что двигаясь с постоянным шагом, вблизи минимума ошибки ответы на обучающей выборке меняются слишком резко, перескакивая через минимум. \n",
    "\n",
    "Попробуйте уменьшать вес перед каждым алгоритмом с каждой следующей итерацией по формуле `0.9 / (1.0 + i)`, где `i` - номер итерации (от 0 до 49). Используйте качество работы алгоритма как **ответ в пункте 3**. \n",
    "\n",
    "В реальности часто применяется следующая стратегия выбора шага: как только выбран алгоритм, подберем коэффициент перед ним численным методом оптимизации таким образом, чтобы отклонение от правильных ответов было минимальным. Мы не будем предлагать вам реализовать это для выполнения задания, но рекомендуем попробовать разобраться с такой стратегией и реализовать ее при случае для себя."
   ]
  },
  {
   "cell_type": "code",
   "execution_count": 5,
   "metadata": {
    "collapsed": true
   },
   "outputs": [],
   "source": [
    "base_algorithms_list = []\n",
    "coefficients_list = []\n",
    "\n",
    "s = np.zeros(X_train.shape[0]) # initial zeros for shift vector\n",
    "a_x = np.zeros(y_train.shape[0]) # current compose tree results \n",
    "\n",
    "for i in range(50):\n",
    "    step = 0.9/(1.0+i+1) \n",
    "    dtr = DecisionTreeRegressor(max_depth=5, random_state=42)\n",
    "    bn = dtr.fit(X=X_train, y=s)\n",
    "    predict = bn.predict(X_train)\n",
    "    base_algorithms_list.append(bn)\n",
    "    coefficients_list.append(step)\n",
    "    a_x += (step * predict)\n",
    "    s = L_anti_gradient(a_x, y_train)\n",
    "    \n"
   ]
  },
  {
   "cell_type": "code",
   "execution_count": 6,
   "metadata": {},
   "outputs": [
    {
     "name": "stdout",
     "output_type": "stream",
     "text": [
      "4.49731975575\n",
      "14.0550835319 10.2\n",
      "14.4192013339 10.4\n",
      "13.8266468326 10.9\n",
      "13.9356743213 11.3\n",
      "13.9356743213 12.3\n",
      "15.3156960485 8.8\n",
      "13.9009512424 7.2\n",
      "13.8198411964 10.5\n",
      "14.7589946152 7.4\n",
      "14.6624906942 10.2\n",
      "13.9356743213 11.5\n",
      "14.9460211925 15.1\n",
      "15.1538117875 23.2\n",
      "13.9356743213 9.7\n",
      "17.2265055827 13.8\n",
      "14.8832797798 12.7\n",
      "15.5318818297 13.1\n",
      "16.9829595958 12.5\n",
      "14.738672593 8.5\n",
      "13.8198411964 5.0\n",
      "16.8091395344 6.3\n",
      "13.5858952643 5.6\n",
      "13.6952193587 7.2\n",
      "14.5464302116 12.1\n",
      "13.9929215589 8.3\n",
      "15.105788335 8.5\n",
      "14.6003153094 5.0\n",
      "14.4019668659 11.9\n",
      "21.1800482618 27.9\n",
      "14.8267750436 17.2\n",
      "17.6378670849 27.5\n",
      "30.794752994 15.0\n",
      "13.6290689722 17.2\n",
      "14.1327803462 17.9\n",
      "14.9651323272 16.3\n",
      "14.1327803462 7.0\n",
      "13.7172461746 7.2\n",
      "15.5189813826 7.5\n",
      "14.8466294163 10.4\n",
      "14.0327588019 8.8\n",
      "16.2355648669 8.4\n",
      "17.6139403157 16.7\n",
      "17.6827539154 14.2\n",
      "18.3337934588 20.8\n",
      "14.2451456642 13.4\n",
      "15.8996853154 11.7\n",
      "13.4308592264 8.3\n",
      "18.0131192465 10.2\n",
      "18.2177170137 10.9\n",
      "15.7874659651 11.0\n",
      "13.7172461746 9.5\n",
      "14.7173155758 14.5\n",
      "18.1122536743 14.1\n",
      "20.2853267164 16.1\n",
      "14.71543523 14.3\n",
      "16.9088762849 11.7\n",
      "13.7202193431 13.4\n",
      "14.5229327117 9.6\n",
      "13.6784542621 8.7\n",
      "14.6182393757 8.4\n",
      "14.0781688669 12.8\n",
      "14.6325309619 10.5\n",
      "14.3542432219 17.1\n",
      "15.3974373288 18.4\n",
      "16.5368182452 15.4\n",
      "14.2248754682 10.8\n",
      "13.9515146445 11.8\n",
      "15.5935371013 14.9\n",
      "15.3974373288 12.6\n",
      "14.6858815704 14.1\n",
      "17.6997259479 13.0\n",
      "16.1389286943 13.4\n",
      "15.3405551406 15.2\n",
      "15.6337382312 16.1\n",
      "22.8873947782 17.8\n",
      "15.8645387064 14.9\n",
      "14.442925588 14.1\n",
      "15.4743149495 12.7\n",
      "16.0056594832 13.5\n",
      "15.5135299775 14.9\n",
      "17.3474475033 20.0\n",
      "16.7412018391 16.4\n",
      "17.7471721623 17.7\n",
      "19.3587432235 19.5\n",
      "21.0298273959 20.2\n",
      "20.5932133393 21.4\n",
      "19.1209053638 19.9\n",
      "14.3123075401 19.0\n",
      "14.4583846107 19.1\n",
      "16.1727914559 19.1\n",
      "18.4031392426 20.1\n",
      "15.2169310513 19.9\n",
      "19.8669840148 19.6\n",
      "19.9341359032 23.2\n",
      "25.1075132806 29.8\n",
      "14.9607616938 13.8\n",
      "14.4119857108 13.3\n",
      "15.123047341 16.7\n",
      "14.3179061849 12.0\n",
      "15.123047341 14.6\n",
      "19.7739532981 21.4\n",
      "20.9643254559 23.0\n",
      "29.8134512297 23.7\n",
      "27.7982161723 25.0\n",
      "19.7302545059 21.8\n",
      "19.8292605045 20.6\n",
      "21.3716027281 21.2\n",
      "19.1064327889 19.1\n",
      "20.4859879851 20.6\n",
      "16.7195446304 15.2\n",
      "15.3451484369 7.0\n",
      "15.310425358 8.1\n",
      "17.1774937044 13.6\n",
      "18.7091561757 20.1\n",
      "18.6916030406 21.8\n",
      "19.5563097822 24.5\n",
      "18.1421602751 23.1\n",
      "17.9653083722 19.7\n",
      "18.9259373442 18.3\n",
      "19.8753266319 21.2\n",
      "18.5130350607 17.5\n",
      "19.5418011133 16.8\n",
      "25.1332088244 22.4\n",
      "20.7717031257 20.6\n",
      "27.5605273363 23.9\n",
      "26.8421068403 22.0\n",
      "20.1213921158 11.9\n"
     ]
    }
   ],
   "source": [
    "y_pred = gbm_predict(X_test)\n",
    "\n",
    "answer1 = (mean_squared_error(y_test, y_pred)) ** 0.5\n",
    "print answer1\n",
    "\n",
    "for i in range(len(y_test)):\n",
    "    print y_pred[i], y_test[i]\n"
   ]
  },
  {
   "cell_type": "markdown",
   "metadata": {},
   "source": [
    "## Задание 4\n",
    "\n",
    "Реализованный вами метод - градиентный бустинг над деревьями - очень популярен в машинном обучении. Он представлен как в самой библиотеке `sklearn`, так и в сторонней библиотеке `XGBoost`, которая имеет свой питоновский интерфейс. На практике `XGBoost` работает заметно лучше `GradientBoostingRegressor` из `sklearn`, но для этого задания вы можете использовать любую реализацию. \n",
    "\n",
    "Исследуйте, переобучается ли градиентный бустинг с ростом числа итераций (и подумайте, почему), а также с ростом глубины деревьев. На основе наблюдений выпишите через пробел номера правильных из приведенных ниже утверждений в порядке возрастания номера (это будет **ответ в п.4**):\n",
    "\n",
    "    1. С увеличением числа деревьев, начиная с некоторого момента, качество работы градиентного бустинга не меняется существенно. Вот это не совсем понятно. Можеет надо смотреть RMSE?\n",
    "\n",
    "    2. С увеличением числа деревьев, начиная с некоторого момента, градиентный бустинг начинает переобучаться. #yes Потому что не достигается максимум качества, т.е. есть начинается и остается постоянное переобучение несмотря на увеличение количества деревьев.\n",
    "\n",
    "    3. С ростом глубины деревьев, начиная с некоторого момента, качество работы градиентного бустинга на тестовой выборке начинает ухудшаться. #yes Видно по графику.\n",
    "\n",
    "    4. С ростом глубины деревьев, начиная с некоторого момента, качество работы градиентного бустинга перестает существенно изменяться Да но по графику вначале есть падение качества."
   ]
  },
  {
   "cell_type": "code",
   "execution_count": 7,
   "metadata": {},
   "outputs": [
    {
     "name": "stderr",
     "output_type": "stream",
     "text": [
      "/home/sigor/anaconda2/lib/python2.7/site-packages/sklearn/cross_validation.py:44: DeprecationWarning: This module was deprecated in version 0.18 in favor of the model_selection module into which all the refactored classes and functions are moved. Also note that the interface of the new CV iterators are different from that of this module. This module will be removed in 0.20.\n",
      "  \"This module will be removed in 0.20.\", DeprecationWarning)\n",
      "/home/sigor/anaconda2/lib/python2.7/site-packages/sklearn/learning_curve.py:23: DeprecationWarning: This module was deprecated in version 0.18 in favor of the model_selection module into which all the functions are moved. This module will be removed in 0.20\n",
      "  DeprecationWarning)\n"
     ]
    },
    {
     "name": "stdout",
     "output_type": "stream",
     "text": [
      "Populating the interactive namespace from numpy and matplotlib\n"
     ]
    },
    {
     "name": "stderr",
     "output_type": "stream",
     "text": [
      "/home/sigor/anaconda2/lib/python2.7/site-packages/IPython/core/magics/pylab.py:161: UserWarning: pylab import has clobbered these variables: ['step']\n",
      "`%matplotlib` prevents importing * from pylab and numpy\n",
      "  \"\\n`%matplotlib` prevents importing * from pylab and numpy\"\n"
     ]
    }
   ],
   "source": [
    "from sklearn import ensemble , cross_validation, learning_curve, metrics \n",
    "\n",
    "import numpy as np\n",
    "import pandas as pd\n",
    "import xgboost as xgb\n",
    "%pylab inline"
   ]
  },
  {
   "cell_type": "code",
   "execution_count": 8,
   "metadata": {},
   "outputs": [
    {
     "data": {
      "text/plain": [
       "array([ 0.9 ,  0.89,  0.88,  0.87,  0.86,  0.85,  0.84,  0.83,  0.82,\n",
       "        0.81,  0.8 ,  0.79,  0.78,  0.77,  0.76,  0.75,  0.74,  0.73,\n",
       "        0.72,  0.71,  0.7 ,  0.69,  0.68,  0.67,  0.66,  0.65,  0.64,\n",
       "        0.63,  0.62,  0.61,  0.6 ,  0.59,  0.58,  0.57,  0.56,  0.55,\n",
       "        0.54,  0.53,  0.52,  0.51,  0.5 ,  0.49,  0.48,  0.47,  0.46,\n",
       "        0.45,  0.44,  0.43,  0.42,  0.41,  0.4 ,  0.39,  0.38,  0.37,\n",
       "        0.36,  0.35,  0.34,  0.33,  0.32,  0.31,  0.3 ,  0.29,  0.28,\n",
       "        0.27,  0.26,  0.25,  0.24,  0.23,  0.22,  0.21,  0.2 ,  0.19,\n",
       "        0.18,  0.17,  0.16,  0.15,  0.14,  0.13,  0.12,  0.11,  0.1 ,\n",
       "        0.09,  0.08,  0.07,  0.06,  0.05,  0.04,  0.03,  0.02])"
      ]
     },
     "execution_count": 8,
     "metadata": {},
     "output_type": "execute_result"
    }
   ],
   "source": [
    "steps = np.array(range(-90, -1))*-0.01\n",
    "steps"
   ]
  },
  {
   "cell_type": "markdown",
   "metadata": {},
   "source": [
    "http://xgboost.readthedocs.io/en/latest/python/python_api.html"
   ]
  },
  {
   "cell_type": "code",
   "execution_count": 32,
   "metadata": {},
   "outputs": [
    {
     "name": "stdout",
     "output_type": "stream",
     "text": [
      "CPU times: user 15.6 s, sys: 284 ms, total: 15.9 s\n",
      "Wall time: 4.18 s\n"
     ]
    }
   ],
   "source": [
    "%%time\n",
    "xgb_scoring = []\n",
    "trees = 50\n",
    "for step in steps:\n",
    "    estimator = xgb.XGBRegressor(n_estimators=trees, learning_rate=step, max_depth=5, min_child_weight=3)\n",
    "    score = cross_validation.cross_val_score(estimator, X, y, cv=3)\n",
    "    xgb_scoring.append(score)\n",
    "xgb_scoring = np.asmatrix(xgb_scoring)    \n",
    "    "
   ]
  },
  {
   "cell_type": "code",
   "execution_count": 33,
   "metadata": {},
   "outputs": [
    {
     "data": {
      "text/plain": [
       "<matplotlib.legend.Legend at 0x7f01d8350d50>"
      ]
     },
     "execution_count": 33,
     "metadata": {},
     "output_type": "execute_result"
    },
    {
     "data": {
      "image/png": "[encoded data removed]",
      "text/plain": [
       "<matplotlib.figure.Figure at 0x7f01d8350d90>"
      ]
     },
     "metadata": {},
     "output_type": "display_data"
    }
   ],
   "source": [
    "pylab.plot(steps, xgb_scoring.mean(axis = 1), marker='.', label='XGBoost')\n",
    "pylab.grid(True)\n",
    "pylab.xlabel('step')\n",
    "pylab.ylabel('r2')\n",
    "pylab.title('R2 score')\n",
    "pylab.legend(loc='lower right')"
   ]
  },
  {
   "cell_type": "markdown",
   "metadata": {},
   "source": [
    "So optimal eta is about 0.1"
   ]
  },
  {
   "cell_type": "code",
   "execution_count": 48,
   "metadata": {},
   "outputs": [],
   "source": [
    "n_trees = [1] + range(10, 1555, 5) \n",
    "#n_trees"
   ]
  },
  {
   "cell_type": "markdown",
   "metadata": {},
   "source": [
    "Tree range 1 to 150."
   ]
  },
  {
   "cell_type": "code",
   "execution_count": 49,
   "metadata": {},
   "outputs": [
    {
     "name": "stdout",
     "output_type": "stream",
     "text": [
      "CPU times: user 8min 29s, sys: 4.86 s, total: 8min 34s\n",
      "Wall time: 2min 12s\n"
     ]
    }
   ],
   "source": [
    "%%time\n",
    "xgb_scoring_2 = []\n",
    "for tree in n_trees:\n",
    "    estimator = xgb.XGBRegressor(n_estimators=tree, learning_rate=0.1, max_depth=5, min_child_weight=3)\n",
    "    score = cross_validation.cross_val_score(estimator, X, y, cv=3)\n",
    "    xgb_scoring_2.append(score)\n",
    "xgb_scoring_2 = np.asmatrix(xgb_scoring_2)"
   ]
  },
  {
   "cell_type": "code",
   "execution_count": 51,
   "metadata": {},
   "outputs": [
    {
     "data": {
      "text/plain": [
       "<matplotlib.legend.Legend at 0x7f01cbd55e10>"
      ]
     },
     "execution_count": 51,
     "metadata": {},
     "output_type": "execute_result"
    },
    {
     "data": {
      "image/png": "[encoded data removed]",
      "text/plain": [
       "<matplotlib.figure.Figure at 0x7f01cbd55e90>"
      ]
     },
     "metadata": {},
     "output_type": "display_data"
    }
   ],
   "source": [
    "pylab.plot(n_trees, xgb_scoring_2.mean(axis = 1), label='XGBoost')\n",
    "pylab.grid(True)\n",
    "pylab.xlabel('trees')\n",
    "pylab.ylabel('r2')\n",
    "pylab.title('R2 score')\n",
    "pylab.legend(loc='lower right')"
   ]
  },
  {
   "cell_type": "markdown",
   "metadata": {},
   "source": [
    "From 30 trees quality is not increasing"
   ]
  },
  {
   "cell_type": "markdown",
   "metadata": {},
   "source": [
    "**There is no reason r^2 shouldn't be negative** (despite the ^2 in its name). This is also stated in the doc. You can see r^2 as the comparison of your model fit (in the context of linear regression, e.g a model of order 1 (affine)) to a model of order 0 (just fitting a constant), both by minimizing a squared loss. The constant minimizing the squared error is the mean. Since you are doing cross validation with left out data, it can happen that the mean of your test set is wildly different from the mean of your training set. This alone can induce a much higher incurred squared error in your prediction versus just predicting the mean of the test data, which results in a negative r^2 score.\n",
    "\n",
    "In worst case, if your data do not explain your target at all, these scores can become very strongly negative. "
   ]
  },
  {
   "cell_type": "code",
   "execution_count": 45,
   "metadata": {},
   "outputs": [],
   "source": [
    "n_depth = [1] + range(2,1200, 2)\n",
    "#n_depth"
   ]
  },
  {
   "cell_type": "code",
   "execution_count": 46,
   "metadata": {},
   "outputs": [
    {
     "name": "stdout",
     "output_type": "stream",
     "text": [
      "CPU times: user 1min 32s, sys: 1.3 s, total: 1min 34s\n",
      "Wall time: 23.9 s\n"
     ]
    }
   ],
   "source": [
    "%%time\n",
    "xgb_scoring_3 = []\n",
    "for depth in n_depth:\n",
    "    estimator = xgb.XGBRegressor(n_estimators=30, learning_rate=0.1, max_depth=depth, min_child_weight=3)\n",
    "    score = cross_validation.cross_val_score(estimator, X, y, cv=3)\n",
    "    xgb_scoring_3.append(score)\n",
    "xgb_scoring_3 = np.asmatrix(xgb_scoring_3)"
   ]
  },
  {
   "cell_type": "code",
   "execution_count": 52,
   "metadata": {},
   "outputs": [
    {
     "data": {
      "text/plain": [
       "<matplotlib.legend.Legend at 0x7f01cbcc6190>"
      ]
     },
     "execution_count": 52,
     "metadata": {},
     "output_type": "execute_result"
    },
    {
     "data": {
      "image/png": "[encoded data removed]",
      "text/plain": [
       "<matplotlib.figure.Figure at 0x7f01cbcc6050>"
      ]
     },
     "metadata": {},
     "output_type": "display_data"
    }
   ],
   "source": [
    "pylab.plot(n_depth, xgb_scoring_3.mean(axis = 1), label='XGBoost')\n",
    "pylab.grid(True)\n",
    "pylab.xlabel('depth')\n",
    "pylab.ylabel('r2')\n",
    "pylab.title('R2 score')\n",
    "pylab.legend(loc='lower right')"
   ]
  },
  {
   "cell_type": "markdown",
   "metadata": {},
   "source": [
    "so quality slightly decreased? Yes."
   ]
  },
  {
   "cell_type": "markdown",
   "metadata": {},
   "source": [
    "## Задание 5\n",
    "\n",
    "Сравните получаемое с помощью градиентного бустинга качество с качеством работы линейной регрессии. \n",
    "\n",
    "Для этого обучите `LinearRegression` из `sklearn.linear_model` (с параметрами по умолчанию) на обучающей выборке и оцените для прогнозов полученного алгоритма на тестовой выборке `RMSE`. Полученное качество - ответ в **пункте 5**. \n",
    "\n",
    "В данном примере качество работы простой модели должно было оказаться хуже, но не стоит забывать, что так бывает не всегда. В заданиях к этому курсу вы еще встретите пример обратной ситуации."
   ]
  },
  {
   "cell_type": "code",
   "execution_count": null,
   "metadata": {
    "collapsed": true
   },
   "outputs": [],
   "source": []
  },
  {
   "cell_type": "code",
   "execution_count": null,
   "metadata": {
    "collapsed": true
   },
   "outputs": [],
   "source": []
  },
  {
   "cell_type": "code",
   "execution_count": null,
   "metadata": {
    "collapsed": true
   },
   "outputs": [],
   "source": []
  }
 ],
 "metadata": {
  "kernelspec": {
   "display_name": "Python 2",
   "language": "python",
   "name": "python2"
  },
  "language_info": {
   "codemirror_mode": {
    "name": "ipython",
    "version": 2
   },
   "file_extension": ".py",
   "mimetype": "text/x-python",
   "name": "python",
   "nbconvert_exporter": "python",
   "pygments_lexer": "ipython2",
   "version": "2.7.13"
  }
 },
 "nbformat": 4,
 "nbformat_minor": 1
}
