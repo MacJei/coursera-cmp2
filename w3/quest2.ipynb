{
 "cells": [
  {
   "cell_type": "markdown",
   "metadata": {},
   "source": [
    "Одной из наиболее часто встречающихся случайных величин является дискрет-\n",
    "ная случайная величина с двумя исходами. Примером в данном случае явля-\n",
    "ется подбрасывание монеты. Можно обозначить выпадение решки за 1 («успех»), а\n",
    "выпадение орла — за 0 («неудача»). Пусть вероятность «успеха» равна p:\n",
    "P (X = 1) = p,\n",
    "P (X = 0) = 1 − p.\n",
    "Именно так устроена бернуллиевская случайная величина:\n",
    "X ∼ Ber(p).\n",
    "Другим примером является сумма независимых бинарных случайных ве-\n",
    "личин. Пусть вероятность попадания мяча в баскетбольное кольцо равна p, имеет-\n",
    "ся n попыток, а число попаданий равно X. В силу независимости попыток:\n",
    "P (X = n) = p n .\n",
    "В общем случае:\n",
    "P (X = k) = C n k p^k (1 − p)^n−k , k = 0, 1, 2, . . . , n.\n",
    "Здесь используется биномиальный коэффициент:\n",
    "C n k =\n",
    "n!\n",
    "/\n",
    "k!(n − k)!\n",
    "Такая случайная величина X называется биномиальной. Биномиальное распределе-\n",
    "ние имеет два параметра: целочисленный n и p ∈ [0, 1]:\n",
    "X ∼ Bin(n, p)."
   ]
  },
  {
   "cell_type": "markdown",
   "metadata": {},
   "source": [
    "Из 15 клиентов банка, которым менеджер предложил подключить автоплатёж, четверо согласились. Подключение услуги — бинарный признак, который можно описать распределением Бернулли. Запишите функцию правдоподобия L(Xn,p) для такой выборки и посчитайте её значение, если истинная вероятность подключения услуги p=0.2. Запишите ответ с пятью знаками после десятичной точки."
   ]
  },
  {
   "cell_type": "code",
   "execution_count": 1,
   "metadata": {},
   "outputs": [
    {
     "name": "stdout",
     "output_type": "stream",
     "text": [
      "1365\n"
     ]
    }
   ],
   "source": [
    "import math\n",
    "#биноминальный коэффициент\n",
    "c_n_k = math.factorial(15)/(math.factorial(4) * math.factorial(15-4))\n",
    "print c_n_k"
   ]
  },
  {
   "cell_type": "markdown",
   "metadata": {},
   "source": [
    "L(Xn, p) = 1365  p^4 (1-p)^11"
   ]
  },
  {
   "cell_type": "code",
   "execution_count": 11,
   "metadata": {},
   "outputs": [
    {
     "name": "stdout",
     "output_type": "stream",
     "text": [
      "Bin(L)= 0.187604171489\n"
     ]
    }
   ],
   "source": [
    "p = 0.2\n",
    "L = c_n_k * p**4 * (1 - p)**(15-4)\n",
    "print \"Bin(L)=\", L"
   ]
  },
  {
   "cell_type": "markdown",
   "metadata": {},
   "source": [
    "https://www.matburo.ru/Examples/Files/ms_mmp_1.pdf"
   ]
  },
  {
   "cell_type": "code",
   "execution_count": 8,
   "metadata": {},
   "outputs": [
    {
     "name": "stdout",
     "output_type": "stream",
     "text": [
      "0.266666666667\n"
     ]
    }
   ],
   "source": [
    "p = 4.0/15.0\n",
    "print p"
   ]
  },
  {
   "cell_type": "markdown",
   "metadata": {},
   "source": [
    "Если X∼Ber(p), то P(X=1)=p,P(X=0)=1−p; отсюда легко записать функцию правдоподобия.\n",
    "L(Xn, p) = p^k * (1-p)^(n-k)"
   ]
  },
  {
   "cell_type": "code",
   "execution_count": 12,
   "metadata": {},
   "outputs": [
    {
     "name": "stdout",
     "output_type": "stream",
     "text": [
      "Ber(L)= 0.000137438953472\n"
     ]
    }
   ],
   "source": [
    "L = p**4 * (1 - p)**(15-4)\n",
    "print \"Ber(L)=\", L"
   ]
  },
  {
   "cell_type": "code",
   "execution_count": 2,
   "metadata": {},
   "outputs": [
    {
     "data": {
      "text/plain": [
       "24"
      ]
     },
     "execution_count": 2,
     "metadata": {},
     "output_type": "execute_result"
    }
   ],
   "source": [
    "math.factorial(4) # сколькими способами можно переставить n объектов"
   ]
  },
  {
   "cell_type": "code",
   "execution_count": 7,
   "metadata": {},
   "outputs": [
    {
     "data": {
      "text/plain": [
       "3"
      ]
     },
     "execution_count": 7,
     "metadata": {},
     "output_type": "execute_result"
    }
   ],
   "source": [
    "math.factorial(2+2-1)/(math.factorial(2-1)*math.factorial(2))"
   ]
  },
  {
   "cell_type": "code",
   "execution_count": 5,
   "metadata": {},
   "outputs": [
    {
     "data": {
      "text/plain": [
       "16"
      ]
     },
     "execution_count": 5,
     "metadata": {},
     "output_type": "execute_result"
    }
   ],
   "source": [
    "4*4"
   ]
  },
  {
   "cell_type": "code",
   "execution_count": 6,
   "metadata": {},
   "outputs": [
    {
     "data": {
      "text/plain": [
       "28"
      ]
     },
     "execution_count": 6,
     "metadata": {},
     "output_type": "execute_result"
    }
   ],
   "source": [
    "math.factorial(8)/(math.factorial(8-2)*math.factorial(2))"
   ]
  },
  {
   "cell_type": "code",
   "execution_count": null,
   "metadata": {
    "collapsed": true
   },
   "outputs": [],
   "source": []
  }
 ],
 "metadata": {
  "kernelspec": {
   "display_name": "Python 2",
   "language": "python",
   "name": "python2"
  },
  "language_info": {
   "codemirror_mode": {
    "name": "ipython",
    "version": 2
   },
   "file_extension": ".py",
   "mimetype": "text/x-python",
   "name": "python",
   "nbconvert_exporter": "python",
   "pygments_lexer": "ipython2",
   "version": "2.7.13"
  }
 },
 "nbformat": 4,
 "nbformat_minor": 2
}
